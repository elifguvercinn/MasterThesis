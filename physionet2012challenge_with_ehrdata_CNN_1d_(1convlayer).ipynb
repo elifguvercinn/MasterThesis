{
 "cells": [
  {
   "cell_type": "markdown",
   "metadata": {},
   "source": [
    "# ehrdata and the physionet2012 challenge dataset\n",
    "\n",
    "This is a small notebook instructing how\n",
    "\n",
    "1. To install `ehrdata`\n",
    "2. Install the required ehrapy package \"development install\" from the development branch on which ehrapy starts to support time-series operations\n",
    "3. How `ehrdata` can download and prepare the Physionet2012 Challenge dataset out of the box\n",
    "4. How a small sequence model can be trained\n",
    "\n",
    "Resources\n",
    "\n",
    "- Physionet2012 Challenge Paper: https://ieeexplore.ieee.org/abstract/document/6420376\n",
    "- Data Link: https://physionet.org/content/challenge-2012/1.0.0/\n"
   ]
  },
  {
   "cell_type": "markdown",
   "metadata": {},
   "source": [
    "## 1. Install ehrdata\n",
    "\n",
    "Install a development version:"
   ]
  },
  {
   "cell_type": "code",
   "execution_count": null,
   "metadata": {},
   "outputs": [],
   "source": [
    "!pip install \"ehrdata==0.0.2a1\""
   ]
  },
  {
   "cell_type": "markdown",
   "metadata": {},
   "source": [
    "## 2. Install ehrapy\n",
    "The ehrapy package does not yet support time-series operations, as this is a feature we're developing.\n",
    "\n",
    "But the latest developments can be used by executing the line below. This fetches the ehrapy repository, switches to the time-series branch, and installs the ehrapy package from this branch."
   ]
  },
  {
   "cell_type": "code",
   "execution_count": null,
   "metadata": {},
   "outputs": [],
   "source": [
    "!git clone https://github.com/theislab/ehrapy.git\n",
    "!cd ehrapy && git fetch && git checkout feature/time-series && pip install -e ."
   ]
  },
  {
   "cell_type": "markdown",
   "metadata": {},
   "source": [
    "**IMPORTANT** You need to restart your Jupyter kernel after running the ehrapy dev install; Only then will juptyer recognize the freshly installed ehrapy package.\n",
    "\n",
    "Once you restarted, you don't need to run the two \"installations\" above, but can continue directly below here."
   ]
  },
  {
   "cell_type": "markdown",
   "metadata": {},
   "source": [
    "## 3. Prepare the Physionet2012 Challenge Dataset\n",
    "\n",
    "### 3.1 Imports"
   ]
  },
  {
   "cell_type": "code",
   "execution_count": 1,
   "metadata": {},
   "outputs": [
    {
     "name": "stdout",
     "output_type": "stream",
     "text": [
      "1.26.4\n"
     ]
    }
   ],
   "source": [
    "import numpy as np\n",
    "print(np.__version__)"
   ]
  },
  {
   "cell_type": "code",
   "execution_count": null,
   "metadata": {},
   "outputs": [],
   "source": [
    "pip install \"numpy==1.26.4\""
   ]
  },
  {
   "cell_type": "code",
   "execution_count": 1,
   "metadata": {},
   "outputs": [
    {
     "name": "stdout",
     "output_type": "stream",
     "text": [
      "1.26.4\n"
     ]
    }
   ],
   "source": [
    "import numpy as np\n",
    "print(np.__version__)"
   ]
  },
  {
   "cell_type": "code",
   "execution_count": 2,
   "metadata": {},
   "outputs": [],
   "source": [
    "import numpy as np\n",
    "from pathlib import Path\n",
    "import ehrdata as ed"
   ]
  },
  {
   "cell_type": "markdown",
   "metadata": {},
   "source": [
    "### 3.2 Data Loading\n",
    "The physionet2012 challenge dataset is one of the ready-to-use datasets of `ehrdata`. See the documentation for further information."
   ]
  },
  {
   "cell_type": "code",
   "execution_count": 3,
   "metadata": {
    "scrolled": true
   },
   "outputs": [
    {
     "name": "stderr",
     "output_type": "stream",
     "text": [
      "/opt/anaconda3/envs/goodmimic/lib/python3.12/site-packages/anndata/_core/aligned_df.py:68: ImplicitModificationWarning: Transforming to str index.\n",
      "  warnings.warn(\"Transforming to str index.\", ImplicitModificationWarning)\n",
      "/opt/anaconda3/envs/goodmimic/lib/python3.12/site-packages/ehrdata/core/ehrdata.py:117: ImplicitModificationWarning: Setting element `.layers['r_layer']` of view, initializing view as actual.\n",
      "  self.layers[R_LAYER_KEY] = input\n"
     ]
    }
   ],
   "source": [
    "edata = ed.dt.physionet2012()"
   ]
  },
  {
   "cell_type": "markdown",
   "metadata": {},
   "source": [
    "The `edata` object contains the data in different fields. The most important ones are\n",
    "\n",
    "- `edata.r` is 3D n_obs x n_var x n_timesteps numpy array containing the time series data\n",
    "- `edata.obs` is a dataframe containing static information about the individuals\n",
    "- `edata.var` is a dataframe which can contain information on the features; here, its quite boring and just the names\n",
    "- `edata.t` is a dataframe which can contain information about the timeaxis; here, its quite boring and just the number of the hours\n"
   ]
  },
  {
   "cell_type": "code",
   "execution_count": 4,
   "metadata": {},
   "outputs": [
    {
     "data": {
      "text/plain": [
       "EHRData object with n_obs x n_var = 11988 x 37, and a timeseries of 48 steps.\n",
       "             shape of .X: (0, 0) \n",
       "             shape of .r: (11988, 37, 48) "
      ]
     },
     "execution_count": 4,
     "metadata": {},
     "output_type": "execute_result"
    }
   ],
   "source": [
    "edata"
   ]
  },
  {
   "cell_type": "code",
   "execution_count": 5,
   "metadata": {},
   "outputs": [
    {
     "data": {
      "text/plain": [
       "(11988, 37, 48)"
      ]
     },
     "execution_count": 5,
     "metadata": {},
     "output_type": "execute_result"
    }
   ],
   "source": [
    "edata.r.shape"
   ]
  },
  {
   "cell_type": "code",
   "execution_count": 6,
   "metadata": {},
   "outputs": [
    {
     "data": {
      "text/plain": [
       "array([[[   nan,    nan,    nan, ...,    nan,    nan,    nan],\n",
       "        [   nan,    nan,    nan, ...,    nan,    nan,    nan],\n",
       "        [   nan,    nan,    nan, ...,    nan,    nan,    nan],\n",
       "        ...,\n",
       "        [   nan,    nan,    nan, ...,    nan,    nan,    nan],\n",
       "        [ -1.  ,    nan,    nan, ...,    nan,    nan,    nan],\n",
       "        [   nan,    nan,    nan, ...,    nan,    nan,    nan]],\n",
       "\n",
       "       [[   nan,    nan,    nan, ...,    nan,    nan,    nan],\n",
       "        [   nan,    nan,    nan, ...,    nan,    nan,    nan],\n",
       "        [   nan,    nan,    nan, ...,    nan,    nan,    nan],\n",
       "        ...,\n",
       "        [   nan,   7.4 ,    nan, ...,    nan,    nan,    nan],\n",
       "        [ 76.  ,    nan,    nan, ...,  81.6 ,  81.6 ,  81.6 ],\n",
       "        [  7.45,   7.44,    nan, ...,   7.37,    nan,    nan]],\n",
       "\n",
       "       [[   nan, 127.  ,    nan, ...,    nan,    nan,    nan],\n",
       "        [   nan,  91.  ,    nan, ...,    nan,    nan,    nan],\n",
       "        [   nan, 235.  ,    nan, ...,    nan,    nan,    nan],\n",
       "        ...,\n",
       "        [   nan,   4.2 ,    nan, ...,    nan,    nan,    nan],\n",
       "        [ 56.7 ,  56.7 ,  56.7 , ...,  56.7 ,  56.7 ,  56.7 ],\n",
       "        [   nan,    nan,    nan, ...,    nan,    nan,    nan]],\n",
       "\n",
       "       ...,\n",
       "\n",
       "       [[   nan,    nan,    nan, ...,    nan,    nan,    nan],\n",
       "        [   nan,    nan,    nan, ...,    nan,    nan,    nan],\n",
       "        [   nan,    nan,    nan, ...,    nan,    nan,    nan],\n",
       "        ...,\n",
       "        [   nan,   5.5 ,    nan, ...,    nan,    nan,    nan],\n",
       "        [ 85.  ,    nan,    nan, ...,  93.  ,    nan,  93.  ],\n",
       "        [  7.43,    nan,    nan, ...,    nan,    nan,    nan]],\n",
       "\n",
       "       [[   nan,    nan,    nan, ...,    nan,    nan,    nan],\n",
       "        [   nan,    nan,    nan, ...,    nan,    nan,    nan],\n",
       "        [   nan,    nan,    nan, ...,    nan,    nan,    nan],\n",
       "        ...,\n",
       "        [ 27.4 ,    nan,    nan, ...,    nan,    nan,    nan],\n",
       "        [128.  , 128.  , 128.  , ..., 128.6 , 128.6 , 128.6 ],\n",
       "        [   nan,    nan,    nan, ...,    nan,    nan,    nan]],\n",
       "\n",
       "       [[   nan,  64.  ,    nan, ...,    nan,    nan,    nan],\n",
       "        [   nan,  23.  ,    nan, ...,    nan,    nan,    nan],\n",
       "        [   nan,  35.  ,    nan, ...,    nan,    nan,    nan],\n",
       "        ...,\n",
       "        [   nan,  19.5 ,    nan, ...,    nan,    nan,    nan],\n",
       "        [ 73.1 ,    nan,    nan, ...,    nan,    nan,    nan],\n",
       "        [  7.26,    nan,    nan, ...,    nan,    nan,    nan]]])"
      ]
     },
     "execution_count": 6,
     "metadata": {},
     "output_type": "execute_result"
    }
   ],
   "source": [
    "edata.r.copy()"
   ]
  },
  {
   "cell_type": "code",
   "execution_count": 7,
   "metadata": {},
   "outputs": [
    {
     "data": {
      "text/plain": [
       "(11988, 10)"
      ]
     },
     "execution_count": 7,
     "metadata": {},
     "output_type": "execute_result"
    }
   ],
   "source": [
    "edata.obs.shape"
   ]
  },
  {
   "cell_type": "code",
   "execution_count": 8,
   "metadata": {},
   "outputs": [
    {
     "data": {
      "text/plain": [
       "(37, 1)"
      ]
     },
     "execution_count": 8,
     "metadata": {},
     "output_type": "execute_result"
    }
   ],
   "source": [
    "edata.var.shape"
   ]
  },
  {
   "cell_type": "code",
   "execution_count": 9,
   "metadata": {},
   "outputs": [
    {
     "data": {
      "text/plain": [
       "(48, 1)"
      ]
     },
     "execution_count": 9,
     "metadata": {},
     "output_type": "execute_result"
    }
   ],
   "source": [
    "edata.t.shape"
   ]
  },
  {
   "cell_type": "markdown",
   "metadata": {},
   "source": [
    "### 4. Training a Sequence Model\n",
    "\n",
    "#### 4.1 Data Preprocessing\n",
    "\n",
    "This shows how the data can be split, prepared into a pytorch dataloader, and be used for a small pytorch model. The model itself is not competitive or \"good\", but is just a small example."
   ]
  },
  {
   "cell_type": "markdown",
   "metadata": {},
   "source": [
    "We split the data into train, validation, and test splits, using the \"set\" labels provided in the Physionet2012 challenge dataset. Any other split is also possible."
   ]
  },
  {
   "cell_type": "code",
   "execution_count": 10,
   "metadata": {},
   "outputs": [
    {
     "name": "stderr",
     "output_type": "stream",
     "text": [
      "/opt/anaconda3/envs/goodmimic/lib/python3.12/site-packages/ehrdata/core/ehrdata.py:117: ImplicitModificationWarning: Setting element `.layers['r_layer']` of view, initializing view as actual.\n",
      "  self.layers[R_LAYER_KEY] = input\n",
      "/opt/anaconda3/envs/goodmimic/lib/python3.12/site-packages/ehrdata/core/ehrdata.py:117: ImplicitModificationWarning: Setting element `.layers['r_layer']` of view, initializing view as actual.\n",
      "  self.layers[R_LAYER_KEY] = input\n",
      "/opt/anaconda3/envs/goodmimic/lib/python3.12/site-packages/ehrdata/core/ehrdata.py:117: ImplicitModificationWarning: Setting element `.layers['r_layer']` of view, initializing view as actual.\n",
      "  self.layers[R_LAYER_KEY] = input\n"
     ]
    }
   ],
   "source": [
    "from sklearn.model_selection import train_test_split\n",
    "# Step 1: Shuffle and split patient indices\n",
    "all_indices = np.arange(edata.n_obs)\n",
    "\n",
    "# %80 training\n",
    "train_idx, temp_idx = train_test_split(all_indices, test_size=0.2, random_state=42)\n",
    "\n",
    "# 10 test, 10 valid, 80 training\n",
    "val_idx, test_idx = train_test_split(temp_idx, test_size=0.5, random_state=42)\n",
    "\n",
    "# Step 2: Update the `set` column in edata.obs to match the new splits\n",
    "edata.obs[\"set\"] = None\n",
    "edata.obs.iloc[train_idx, edata.obs.columns.get_loc(\"set\")] = \"set-a\"\n",
    "edata.obs.iloc[val_idx, edata.obs.columns.get_loc(\"set\")] = \"set-b\"\n",
    "edata.obs.iloc[test_idx, edata.obs.columns.get_loc(\"set\")] = \"set-c\"\n",
    "\n",
    "# Step 3: Use same logic as before to extract the splits\n",
    "edata_train = edata[edata.obs[\"set\"] == \"set-a\"]\n",
    "edata_val   = edata[edata.obs[\"set\"] == \"set-b\"]\n",
    "edata_test  = edata[edata.obs[\"set\"] == \"set-c\"]"
   ]
  },
  {
   "cell_type": "markdown",
   "metadata": {},
   "source": [
    "\n",
    "We perform a zero-mean and unit-variance normalization. For this, ehrapy provides some functionality:"
   ]
  },
  {
   "cell_type": "code",
   "execution_count": 11,
   "metadata": {},
   "outputs": [],
   "source": [
    "import ehrapy as ep"
   ]
  },
  {
   "cell_type": "code",
   "execution_count": 12,
   "metadata": {},
   "outputs": [],
   "source": [
    "scaler3d = ep.ts.StandardScaler3D()\n",
    "\n",
    "scaler3d.fit_transform(edata_train)\n",
    "scaler3d.transform(edata_val)\n",
    "scaler3d.transform(edata_test)"
   ]
  },
  {
   "cell_type": "markdown",
   "metadata": {},
   "source": [
    "To impute missing values, we now perform last observation carried forward imputation.\n",
    "There exist also more sophisticated methods for time-series imputation, e.g. [SAITS (Du et al., 2023)](https://doi.org/10.1016/j.eswa.2023.119619)."
   ]
  },
  {
   "cell_type": "code",
   "execution_count": 13,
   "metadata": {},
   "outputs": [],
   "source": [
    "locf = ep.ts.LOCFImputer()\n",
    "\n",
    "locf.fit_transform(edata_train)\n",
    "locf.transform(edata_val)\n",
    "locf.transform(edata_test)"
   ]
  },
  {
   "cell_type": "markdown",
   "metadata": {},
   "source": [
    "Finally, let us briefly explore the shape of the data: We have 37 numeric features, measured for 48 hours, and roughly 4'000 patients per split. The dataset is imbalanced, with ca 14% in-hospital death cases per split."
   ]
  },
  {
   "cell_type": "code",
   "execution_count": 14,
   "metadata": {},
   "outputs": [
    {
     "data": {
      "text/plain": [
       "EHRData object with n_obs x n_var = 9590 x 37, and a timeseries of 48 steps.\n",
       "             shape of .X: (0, 0) \n",
       "             shape of .r: (9590, 37, 48) "
      ]
     },
     "execution_count": 14,
     "metadata": {},
     "output_type": "execute_result"
    }
   ],
   "source": [
    "edata_train"
   ]
  },
  {
   "cell_type": "code",
   "execution_count": 15,
   "metadata": {},
   "outputs": [
    {
     "data": {
      "text/plain": [
       "EHRData object with n_obs x n_var = 1199 x 37, and a timeseries of 48 steps.\n",
       "             shape of .X: (0, 0) \n",
       "             shape of .r: (1199, 37, 48) "
      ]
     },
     "execution_count": 15,
     "metadata": {},
     "output_type": "execute_result"
    }
   ],
   "source": [
    "edata_val"
   ]
  },
  {
   "cell_type": "code",
   "execution_count": 16,
   "metadata": {},
   "outputs": [
    {
     "data": {
      "text/plain": [
       "EHRData object with n_obs x n_var = 1199 x 37, and a timeseries of 48 steps.\n",
       "             shape of .X: (0, 0) \n",
       "             shape of .r: (1199, 37, 48) "
      ]
     },
     "execution_count": 16,
     "metadata": {},
     "output_type": "execute_result"
    }
   ],
   "source": [
    "edata_test"
   ]
  },
  {
   "cell_type": "code",
   "execution_count": 17,
   "metadata": {},
   "outputs": [
    {
     "name": "stdout",
     "output_type": "stream",
     "text": [
      "positive rate in edata_train: 0.1436, absolute count: 1377\n",
      "positive rate in edata_val: 0.1401, absolute count: 168\n",
      "positive rate in edata_test: 0.1351, absolute count: 162\n"
     ]
    }
   ],
   "source": [
    "print(\n",
    "    f\"positive rate in edata_train: {edata_train.obs['In-hospital_death'].mean():.4f}, absolute count: {edata_train.obs['In-hospital_death'].sum()}\"\n",
    ")\n",
    "\n",
    "print(\n",
    "    f\"positive rate in edata_val: {edata_val.obs['In-hospital_death'].mean():.4f}, absolute count: {edata_val.obs['In-hospital_death'].sum()}\"\n",
    ")\n",
    "\n",
    "print(\n",
    "    f\"positive rate in edata_test: {edata_test.obs['In-hospital_death'].mean():.4f}, absolute count: {edata_test.obs['In-hospital_death'].sum()}\"\n",
    ")"
   ]
  },
  {
   "cell_type": "markdown",
   "metadata": {},
   "source": [
    "#### 4.2 Model preparation\n",
    "\n",
    "The below part is not very specific for `ehrdata` or `ehrapyz` anymore, but more about `torch`.\n",
    "\n",
    "It just is a tiny showcase for a sequence model.\n",
    "\n",
    "We build a small sequence model in pytorch. More elaborate model architectures have been proposed for this dataset. Here, for demonstration purposes and as to avoid complexity, we focus on a simple architecture.\n",
    "\n",
    "In a nutshell, the model has a GRU block as sequence model, and a classification head."
   ]
  },
  {
   "cell_type": "code",
   "execution_count": 18,
   "metadata": {},
   "outputs": [],
   "source": [
    "import pandas as pd\n",
    "import numpy as np\n",
    "import matplotlib.pyplot as plt\n",
    "from sklearn.model_selection import train_test_split\n",
    "from datetime import datetime, timedelta\n",
    "\n",
    "import torch\n",
    "from torch import nn\n",
    "from torch import optim\n",
    "from torch.nn import functional as F\n",
    "from torch.optim.lr_scheduler import _LRScheduler\n",
    "from torch.utils.data import TensorDataset, DataLoader\n",
    "from torchinfo import summary\n",
    "from sklearn.metrics import roc_auc_score, precision_recall_curve, accuracy_score, f1_score, auc, confusion_matrix\n"
   ]
  },
  {
   "cell_type": "code",
   "execution_count": 20,
   "metadata": {},
   "outputs": [],
   "source": [
    "# 1. Extract data and labels\n",
    "x_train = edata_train.r\n",
    "x_val = edata_val.r\n",
    "x_test = edata_test.r"
   ]
  },
  {
   "cell_type": "code",
   "execution_count": 21,
   "metadata": {},
   "outputs": [],
   "source": [
    "y_train = edata_train.obs[\"In-hospital_death\"].values\n",
    "y_val = edata_val.obs[\"In-hospital_death\"].values\n",
    "y_test = edata_test.obs[\"In-hospital_death\"].values"
   ]
  },
  {
   "cell_type": "code",
   "execution_count": null,
   "metadata": {},
   "outputs": [],
   "source": []
  },
  {
   "cell_type": "code",
   "execution_count": 24,
   "metadata": {},
   "outputs": [
    {
     "name": "stdout",
     "output_type": "stream",
     "text": [
      "Before SMOTE: (9590, 1776) (9590,)\n",
      "After SMOTE: (16426, 1776) (16426,)\n"
     ]
    },
    {
     "data": {
      "image/png": "[encoded data removed]",
      "text/latex": [
       "$\\displaystyle \\left( 16426, \\  37, \\  48\\right)$"
      ],
      "text/plain": [
       "(16426, 37, 48)"
      ]
     },
     "execution_count": 24,
     "metadata": {},
     "output_type": "execute_result"
    }
   ],
   "source": [
    "from imblearn.over_sampling import SMOTE\n",
    "\n",
    "# Flatten x_train to 2D so SMOTE can work\n",
    "n_samples = x_train.shape[0]\n",
    "x_train_flat = x_train.reshape(n_samples, -1)  # (n_samples, 37×48 = 1728)\n",
    "print(\"Before SMOTE:\", x_train_flat.shape, y_train.shape)\n",
    "# Apply SMOTE\n",
    "smote = SMOTE(random_state=42)\n",
    "X_resampled, y_resampled = smote.fit_resample(x_train_flat, y_train)\n",
    "print(\"After SMOTE:\", X_resampled.shape, y_resampled.shape)\n",
    "\n",
    "# Reshape back to (n_samples, 37, 48)\n",
    "X_resampled = X_resampled.reshape(-1, 37, 48)\n",
    "X_resampled.shape"
   ]
  },
  {
   "cell_type": "code",
   "execution_count": null,
   "metadata": {},
   "outputs": [],
   "source": []
  },
  {
   "cell_type": "code",
   "execution_count": 25,
   "metadata": {},
   "outputs": [
    {
     "name": "stdout",
     "output_type": "stream",
     "text": [
      "positive rate in edata_train: 0.5000, absolute count: 8213\n"
     ]
    }
   ],
   "source": [
    "print(\n",
    "    f\"positive rate in edata_train: {y_resampled.mean():.4f}, absolute count: {y_resampled.sum()}\"\n",
    ")"
   ]
  },
  {
   "cell_type": "code",
   "execution_count": 26,
   "metadata": {},
   "outputs": [],
   "source": [
    "# 2. Convert to tensors\n",
    "trn_ds = TensorDataset(torch.tensor(X_resampled).float(), torch.tensor(y_resampled).long())\n",
    "val_ds = TensorDataset(torch.tensor(x_val).float(), torch.tensor(y_val).long())\n",
    "tst_ds = TensorDataset(torch.tensor(x_test).float(), torch.tensor(y_test).long())"
   ]
  },
  {
   "cell_type": "code",
   "execution_count": 27,
   "metadata": {},
   "outputs": [],
   "source": [
    "# 3. Create data loaders\n",
    "trn_dl = DataLoader(trn_ds, batch_size=256, shuffle=True)\n",
    "val_dl = DataLoader(val_ds, batch_size=256, shuffle=False)\n",
    "tst_dl = DataLoader(tst_ds, batch_size=256, shuffle=False)"
   ]
  },
  {
   "cell_type": "code",
   "execution_count": 28,
   "metadata": {},
   "outputs": [],
   "source": [
    "device = torch.device('cuda:0' if torch.cuda.is_available() else 'cpu')"
   ]
  },
  {
   "cell_type": "code",
   "execution_count": 29,
   "metadata": {},
   "outputs": [
    {
     "data": {
      "text/plain": [
       "'class Classifier(nn.Module):\\n    def __init__(self, raw_ni, no, input_time_steps=48, drop=0.5):\\n        super().__init__()\\n\\n        # First and second conv layer\\n        self.conv_block = nn.Sequential(\\n            CostumConv1d(raw_ni, 64, kernel=3, stride=1, pad=0, drop=drop),\\n            CostumConv1d(64, 128, kernel=3, stride=1, pad=0, drop=drop),\\n            nn.MaxPool1d(kernel_size=2, stride=2)\\n        )\\n        self.flatten = Flatten()\\n\\n        # Dynamically calculate flattened size\\n        with torch.no_grad():\\n            dummy_input = torch.zeros(1, raw_ni, input_time_steps)\\n            dummy_output = self.conv_block(dummy_input)\\n            flat_dim = dummy_output.view(1, -1).shape[1]\\n\\n        self.fc = nn.Sequential(\\n            nn.Dropout(drop), nn.Linear(flat_dim, 64), nn.ReLU(inplace=True),\\n            nn.Dropout(drop), nn.Linear(64, 64), nn.ReLU(inplace=True),\\n            nn.Linear(64, no)\\n        )\\n\\n    def forward(self, t_raw):\\n        x = self.conv_block(t_raw)\\n        x = self.flatten(x)\\n        return self.fc(x)'"
      ]
     },
     "execution_count": 29,
     "metadata": {},
     "output_type": "execute_result"
    }
   ],
   "source": [
    "class CostumConv1d(nn.Module):\n",
    "    def __init__(self, ni, no, kernel, stride, pad, drop=None, activ=lambda: nn.ReLU(inplace=True)):\n",
    "        super().__init__()\n",
    "        assert drop is None or (0.0 < drop < 1.0) #Ensures that if dropout is used, it's between 0 and 1.\n",
    "        layers = [nn.Conv1d(ni, no, kernel, stride, pad)] #Creates a list with the 1D convolution layer.\n",
    "        if activ: \n",
    "            layers.append(activ()) #Adds an activation function (like ReLU).\n",
    "        if drop is not None:\n",
    "            layers.append(nn.Dropout(drop)) #Adds a Dropout layer if specified.\n",
    "        self.layers = nn.Sequential(*layers) #Puts all layers into a Sequential container.\n",
    "\n",
    "    def forward(self, x):\n",
    "        return self.layers(x) #Defines how the input x flows through the layers.\n",
    "\n",
    "class Flatten(nn.Module):\n",
    "    def __init__(self, keep_batch_dim=True):\n",
    "        super().__init__()\n",
    "        self.keep_batch_dim = keep_batch_dim #Stores whether to keep the batch dimension during flattening.\n",
    "    \n",
    "    def forward(self, x):\n",
    "        if self.keep_batch_dim:\n",
    "            return x.view(x.size(0), -1) #If keep_batch_dim=True, reshapes tensor from (B, C, T) → (B, C×T)\n",
    "        return x.view(-1)    #Otherwise, reshapes it to a flat vector of size (B×C×T,)\n",
    "\n",
    "class Classifier(nn.Module):\n",
    "    def __init__(self, raw_ni, no, drop=.5): #Defines your full model: Conv → Pool → Flatten → FC layers\n",
    "        super().__init__()\n",
    "        \n",
    "        self.conv_block = nn.Sequential(\n",
    "            CostumConv1d(raw_ni, 32, 3, 1, 1, drop=drop), # Output shape: (batch_size, 128, 46) if input is (batch_size, 37, 48)\n",
    "            nn.AvgPool1d(1) #Halves time dimension → (batch_size, 128, 23)\n",
    "        )\n",
    "        self.flatten = Flatten() #Converts (batch_size, 128, 23) → (batch_size, 2944)\n",
    "\n",
    "        self.fc = nn.Sequential(\n",
    "            #nn.Dropout(drop), \n",
    "            nn.Linear(1536, 64), #nn.ReLU(inplace=True), #  0.3 dropout first,Fully connected layer → 2944 input → 64 output,ReLU(): Non-linearity\n",
    "            #nn.Dropout(drop), \n",
    "            nn.Linear(64, 32),\n",
    "            nn.ReLU(inplace=True), #Another Dropout and Linear(64, 64),Final Linear(64, 2): Output layer for 2 classes\n",
    "            nn.Linear(32, no)\n",
    "        )\n",
    "\n",
    "    def forward(self, t_raw):\n",
    "        x = self.conv_block(t_raw)\n",
    "        x = self.flatten(x)\n",
    "        return self.fc(x)\n",
    "\n",
    "        \n",
    "\"\"\"class Classifier(nn.Module):\n",
    "    def __init__(self, raw_ni, no, input_time_steps=48, drop=0.5):\n",
    "        super().__init__()\n",
    "\n",
    "        # First and second conv layer\n",
    "        self.conv_block = nn.Sequential(\n",
    "            CostumConv1d(raw_ni, 64, kernel=3, stride=1, pad=0, drop=drop),\n",
    "            CostumConv1d(64, 128, kernel=3, stride=1, pad=0, drop=drop),\n",
    "            nn.MaxPool1d(kernel_size=2, stride=2)\n",
    "        )\n",
    "        self.flatten = Flatten()\n",
    "\n",
    "        # Dynamically calculate flattened size\n",
    "        with torch.no_grad():\n",
    "            dummy_input = torch.zeros(1, raw_ni, input_time_steps)\n",
    "            dummy_output = self.conv_block(dummy_input)\n",
    "            flat_dim = dummy_output.view(1, -1).shape[1]\n",
    "\n",
    "        self.fc = nn.Sequential(\n",
    "            nn.Dropout(drop), nn.Linear(flat_dim, 64), nn.ReLU(inplace=True),\n",
    "            nn.Dropout(drop), nn.Linear(64, 64), nn.ReLU(inplace=True),\n",
    "            nn.Linear(64, no)\n",
    "        )\n",
    "\n",
    "    def forward(self, t_raw):\n",
    "        x = self.conv_block(t_raw)\n",
    "        x = self.flatten(x)\n",
    "        return self.fc(x)\"\"\"\n"
   ]
  },
  {
   "cell_type": "code",
   "execution_count": 30,
   "metadata": {},
   "outputs": [
    {
     "data": {
      "text/plain": [
       "(torch.Size([42, 37, 48]), torch.Size([42]))"
      ]
     },
     "execution_count": 30,
     "metadata": {},
     "output_type": "execute_result"
    }
   ],
   "source": [
    "for epoch in range(1):\n",
    "    epoch_loss = 0\n",
    "    for i, batch in enumerate(trn_dl):\n",
    "        x_raw, y_batch = [t.to(device) for t in batch]\n",
    "x_raw.shape,y_batch.shape"
   ]
  },
  {
   "cell_type": "code",
   "execution_count": 31,
   "metadata": {},
   "outputs": [
    {
     "data": {
      "image/png": "[encoded data removed]",
      "text/latex": [
       "$\\displaystyle \\left( 9590, \\  37, \\  48\\right)$"
      ],
      "text/plain": [
       "(9590, 37, 48)"
      ]
     },
     "execution_count": 31,
     "metadata": {},
     "output_type": "execute_result"
    }
   ],
   "source": [
    "x_train.shape"
   ]
  },
  {
   "cell_type": "code",
   "execution_count": 32,
   "metadata": {},
   "outputs": [
    {
     "name": "stdout",
     "output_type": "stream",
     "text": [
      "Dummy input shape: torch.Size([1, 37, 48])\n",
      "Output shape: torch.Size([1, 2])\n",
      "Start model training\n"
     ]
    }
   ],
   "source": [
    "raw_feat = x_train.shape[1]  # 37 features = 37 input channels\n",
    "num_classes = 2\n",
    "drop = 0.3\n",
    "loss_history = []\n",
    "acc_history = []\n",
    "patience, trials = 200, 0\n",
    "base, step = 1, 2\n",
    "best_acc = 0\n",
    "n_epochs = 100\n",
    "\n",
    "model = Classifier(raw_feat, num_classes).to(device)\n",
    "#criterion = nn.CrossEntropyLoss()\n",
    "criterion = nn.CrossEntropyLoss(weight=torch.tensor([1.0, 3.5]).to(device))#Compares predicted logits (before softmax) to true labels\n",
    "opt = optim.Adam(model.parameters(), lr=0.001)\n",
    "\n",
    "# Example pass-through for shape check\n",
    "x_dummy = torch.randn(1, raw_feat, 48).to(device)\n",
    "print(\"Dummy input shape:\", x_dummy.shape)\n",
    "with torch.no_grad():\n",
    "    print(\"Output shape:\", model(x_dummy).shape)\n",
    "\n",
    "model = Classifier(raw_feat, 2).to(device)\n",
    "criterion = nn.CrossEntropyLoss()\n",
    "opt = optim.Adam(model.parameters(), lr=0.001)\n",
    "\n",
    "print('Start model training')\n",
    "\n"
   ]
  },
  {
   "cell_type": "code",
   "execution_count": 33,
   "metadata": {},
   "outputs": [
    {
     "name": "stdout",
     "output_type": "stream",
     "text": [
      "Epoch:   1. Loss: 0.5039. Acc.: 74.81%. AUC: 0.8313\n",
      "✓ Epoch 1 - Best model saved with accuracy: 74.81%\n",
      "Epoch:   2. Loss: 0.4148. Acc.: 80.48%. AUC: 0.8137\n",
      "✓ Epoch 2 - Best model saved with accuracy: 80.48%\n",
      "✓ Epoch 3 - Best model saved with accuracy: 80.82%\n",
      "Epoch:   4. Loss: 0.3564. Acc.: 81.73%. AUC: 0.8107\n",
      "✓ Epoch 4 - Best model saved with accuracy: 81.73%\n",
      "Epoch:   8. Loss: 0.3033. Acc.: 80.32%. AUC: 0.8082\n",
      "✓ Epoch 9 - Best model saved with accuracy: 81.82%\n",
      "✓ Epoch 10 - Best model saved with accuracy: 82.49%\n",
      "✓ Epoch 14 - Best model saved with accuracy: 83.32%\n",
      "Epoch:  16. Loss: 0.2316. Acc.: 81.23%. AUC: 0.7900\n",
      "✓ Epoch 27 - Best model saved with accuracy: 84.82%\n",
      "Epoch:  32. Loss: 0.1518. Acc.: 84.40%. AUC: 0.7846\n",
      "✓ Epoch 54 - Best model saved with accuracy: 84.99%\n",
      "Epoch:  64. Loss: 0.1001. Acc.: 84.15%. AUC: 0.7747\n",
      "✓ Epoch 78 - Best model saved with accuracy: 85.32%\n",
      "✓ Epoch 80 - Best model saved with accuracy: 85.57%\n",
      "✓ Epoch 84 - Best model saved with accuracy: 85.65%\n",
      "Done!\n"
     ]
    }
   ],
   "source": [
    "#Training\n",
    "\n",
    "for epoch in range(1, n_epochs + 1):\n",
    "    model.train()\n",
    "    epoch_loss = 0\n",
    "    for x_raw, y_batch in trn_dl:\n",
    "        x_raw, y_batch = x_raw.to(device), y_batch.to(device)\n",
    "        opt.zero_grad()\n",
    "        out = model(x_raw)\n",
    "        loss = criterion(out, y_batch)\n",
    "        epoch_loss += loss.item()\n",
    "        loss.backward()\n",
    "        opt.step()\n",
    "\n",
    "    epoch_loss /= len(trn_dl)\n",
    "    loss_history.append(epoch_loss)\n",
    "\n",
    "    # Validation\n",
    "    \n",
    "    model.eval()\n",
    "    correct, total = 0, 0\n",
    "    all_probs=[]\n",
    "    all_labels= []\n",
    "\n",
    "    with torch.no_grad():\n",
    "        for x_raw, y_batch in val_dl:\n",
    "            x_raw, y_batch = x_raw.to(device), y_batch.to(device)\n",
    "            out = model(x_raw)\n",
    "            #preds = F.log_softmax(out, dim=1).argmax(dim=1)\n",
    "            probs = F.softmax(out, dim=1)[:, 1]\n",
    "            preds = probs > 0.5\n",
    "            correct += (preds == y_batch).sum().item()\n",
    "            all_probs.append(probs.cpu())\n",
    "            all_labels.append(y_batch.cpu())\n",
    "            #total += y_batch.size(0)\n",
    "\n",
    "    #acc = correct / total\n",
    "    acc = correct / len(val_dl.dataset)\n",
    "    acc_history.append(acc)\n",
    "\n",
    "    probs_np = torch.cat(all_probs).numpy()\n",
    "    labels_np = torch.cat(all_labels).numpy()\n",
    "\n",
    "    try:\n",
    "        auc_score = roc_auc_score(labels_np, probs_np)\n",
    "    except ValueError:\n",
    "        auc_score = float('nan')\n",
    "\n",
    "    if epoch % base == 0:\n",
    "        print(f\"Epoch: {epoch:3d}. Loss: {epoch_loss:.4f}. Acc.: {acc:2.2%}. AUC: {auc_score:.4f}\")\n",
    "        base *= step\n",
    "\n",
    "    if acc > best_acc:\n",
    "        best_acc = acc\n",
    "        trials = 0\n",
    "        torch.save(model.state_dict(), \"best.pth\")\n",
    "        print(f\"✓ Epoch {epoch} - Best model saved with accuracy: {best_acc:2.2%}\")\n",
    "    else:\n",
    "        trials += 1\n",
    "        if trials >= patience:\n",
    "            print(f\"Early stopping at epoch {epoch}\")\n",
    "            break\n",
    "\n",
    "print(\"Done!\")"
   ]
  },
  {
   "cell_type": "code",
   "execution_count": 34,
   "metadata": {},
   "outputs": [],
   "source": [
    "def smooth(y, box_pts):\n",
    "    box = np.ones(box_pts)/box_pts\n",
    "    y_smooth = np.convolve(y, box, mode='same')\n",
    "    return y_smooth"
   ]
  },
  {
   "cell_type": "code",
   "execution_count": 35,
   "metadata": {},
   "outputs": [
    {
     "data": {
      "image/png": "[encoded data removed]",
      "text/plain": [
       "<Figure size 1200x400 with 2 Axes>"
      ]
     },
     "metadata": {},
     "output_type": "display_data"
    }
   ],
   "source": [
    "f, ax = plt.subplots(1, 2, figsize=(12, 4))\n",
    "\n",
    "ax[0].plot(loss_history, label='loss')\n",
    "ax[0].set_title('Validation Loss History')\n",
    "ax[0].set_xlabel('Epoch no.')\n",
    "ax[0].set_ylabel('Loss')\n",
    "\n",
    "ax[1].plot(smooth(acc_history, 5)[:-2], label='acc')\n",
    "ax[1].set_title('Validation Accuracy History')\n",
    "ax[1].set_xlabel('Epoch no.')\n",
    "ax[1].set_ylabel('Accuracy');"
   ]
  },
  {
   "cell_type": "code",
   "execution_count": 36,
   "metadata": {},
   "outputs": [],
   "source": [
    "preds_array = np.array([])\n",
    "for batch in tst_dl:\n",
    "        x_raw, y_batch = [t.to(device) for t in batch]\n",
    "        out = model(x_raw)\n",
    "        preds = F.log_softmax(out, dim=1).argmax(dim=1).numpy()\n",
    "        preds_array = np.concatenate((preds_array, preds), axis=None)"
   ]
  },
  {
   "cell_type": "code",
   "execution_count": 37,
   "metadata": {},
   "outputs": [
    {
     "name": "stdout",
     "output_type": "stream",
     "text": [
      "\n",
      "Confusion Matrix:\n",
      " [[968  69]\n",
      " [106  56]]\n",
      "\n",
      "Classification Report:\n",
      "               precision    recall  f1-score   support\n",
      "\n",
      "           0       0.90      0.93      0.92      1037\n",
      "           1       0.45      0.35      0.39       162\n",
      "\n",
      "    accuracy                           0.85      1199\n",
      "   macro avg       0.67      0.64      0.65      1199\n",
      "weighted avg       0.84      0.85      0.85      1199\n",
      "\n",
      "Test AUC: 0.7881\n"
     ]
    }
   ],
   "source": [
    "# --- Test Evaluation ---\n",
    "model.load_state_dict(torch.load(\"best.pth\"))\n",
    "model.eval()\n",
    "\n",
    "test_probs, test_labels = [], []\n",
    "with torch.no_grad():\n",
    "    for x_raw, y_batch in tst_dl:\n",
    "        x_raw = x_raw.to(device)\n",
    "        out = model(x_raw)\n",
    "        probs = F.softmax(out, dim=1)[:, 1]\n",
    "        test_probs.append(probs.cpu())\n",
    "        test_labels.append(y_batch)\n",
    "\n",
    "test_probs = torch.cat(test_probs).numpy()\n",
    "test_preds = (test_probs >= 0.5).astype(int)\n",
    "test_labels = torch.cat(test_labels).numpy()\n",
    "\n",
    "from sklearn.metrics import confusion_matrix, roc_auc_score, classification_report\n",
    "\n",
    "# Metrics\n",
    "print(\"\\nConfusion Matrix:\\n\", confusion_matrix(test_labels, test_preds))\n",
    "print(\"\\nClassification Report:\\n\", classification_report(test_labels, test_preds))\n",
    "print(f\"Test AUC: {roc_auc_score(test_labels, test_probs):.4f}\")"
   ]
  },
  {
   "cell_type": "code",
   "execution_count": 38,
   "metadata": {},
   "outputs": [
    {
     "data": {
      "image/png": "[encoded data removed]",
      "text/latex": [
       "$\\displaystyle \\left( 37, \\  48\\right)$"
      ],
      "text/plain": [
       "(37, 48)"
      ]
     },
     "execution_count": 38,
     "metadata": {},
     "output_type": "execute_result"
    }
   ],
   "source": [
    "x_train[0].shape"
   ]
  },
  {
   "cell_type": "code",
   "execution_count": 39,
   "metadata": {},
   "outputs": [
    {
     "data": {
      "image/png": "[encoded data removed]",
      "text/latex": [
       "$\\displaystyle \\left( 4, \\  3\\right)$"
      ],
      "text/plain": [
       "(4, 3)"
      ]
     },
     "execution_count": 39,
     "metadata": {},
     "output_type": "execute_result"
    }
   ],
   "source": [
    "arr_2d= np.array([[1,2,3], [5,6,7], [9,10,11], [12,13,14]])\n",
    "arr_2d.shape"
   ]
  },
  {
   "cell_type": "code",
   "execution_count": 42,
   "metadata": {},
   "outputs": [
    {
     "data": {
      "text/plain": [
       "==========================================================================================\n",
       "Layer (type:depth-idx)                   Output Shape              Param #\n",
       "==========================================================================================\n",
       "Classifier                               [1, 2]                    --\n",
       "├─Sequential: 1-1                        [1, 32, 48]               --\n",
       "│    └─CostumConv1d: 2-1                 [1, 32, 48]               --\n",
       "│    │    └─Sequential: 3-1              [1, 32, 48]               3,584\n",
       "│    └─AvgPool1d: 2-2                    [1, 32, 48]               --\n",
       "├─Flatten: 1-2                           [1, 1536]                 --\n",
       "├─Sequential: 1-3                        [1, 2]                    --\n",
       "│    └─Linear: 2-3                       [1, 64]                   98,368\n",
       "│    └─Linear: 2-4                       [1, 32]                   2,080\n",
       "│    └─ReLU: 2-5                         [1, 32]                   --\n",
       "│    └─Linear: 2-6                       [1, 2]                    66\n",
       "==========================================================================================\n",
       "Total params: 104,098\n",
       "Trainable params: 104,098\n",
       "Non-trainable params: 0\n",
       "Total mult-adds (Units.MEGABYTES): 0.27\n",
       "==========================================================================================\n",
       "Input size (MB): 0.01\n",
       "Forward/backward pass size (MB): 0.01\n",
       "Params size (MB): 0.42\n",
       "Estimated Total Size (MB): 0.44\n",
       "=========================================================================================="
      ]
     },
     "execution_count": 42,
     "metadata": {},
     "output_type": "execute_result"
    }
   ],
   "source": [
    "summary(model, input_size=(1, 37, 48)) "
   ]
  },
  {
   "cell_type": "code",
   "execution_count": 40,
   "metadata": {},
   "outputs": [
    {
     "data": {
      "text/plain": [
       "array([[ 1,  2,  3],\n",
       "       [ 5,  6,  7],\n",
       "       [ 9, 10, 11],\n",
       "       [12, 13, 14]])"
      ]
     },
     "execution_count": 40,
     "metadata": {},
     "output_type": "execute_result"
    }
   ],
   "source": [
    "arr_2d"
   ]
  },
  {
   "cell_type": "code",
   "execution_count": 41,
   "metadata": {},
   "outputs": [
    {
     "data": {
      "text/plain": [
       "(array([[ 1,  5],\n",
       "        [ 9, 12]]),\n",
       " array([[ 2,  6],\n",
       "        [10, 13]]),\n",
       " array([[ 3,  7],\n",
       "        [11, 14]]))"
      ]
     },
     "execution_count": 41,
     "metadata": {},
     "output_type": "execute_result"
    }
   ],
   "source": [
    "arr_3d= arr_2d.reshape(2,2,3)\n",
    "arr_3d[:,:,0], arr_3d[:,:,1], arr_3d[:,:,2]"
   ]
  }
 ],
 "metadata": {
  "kernelspec": {
   "display_name": "Python (goodmimic)",
   "language": "python",
   "name": "goodmimic"
  },
  "language_info": {
   "codemirror_mode": {
    "name": "ipython",
    "version": 3
   },
   "file_extension": ".py",
   "mimetype": "text/x-python",
   "name": "python",
   "nbconvert_exporter": "python",
   "pygments_lexer": "ipython3",
   "version": "3.12.2"
  }
 },
 "nbformat": 4,
 "nbformat_minor": 4
}
