{
 "cells": [
  {
   "cell_type": "markdown",
   "metadata": {},
   "source": [
    "# ehrdata and the physionet2012 challenge dataset\n",
    "\n",
    "This is a small notebook instructing how\n",
    "\n",
    "1. To install `ehrdata`\n",
    "2. Install the required ehrapy package \"development install\" from the development branch on which ehrapy starts to support time-series operations\n",
    "3. How `ehrdata` can download and prepare the Physionet2012 Challenge dataset out of the box\n",
    "4. How a small sequence model can be trained\n",
    "\n",
    "Resources\n",
    "\n",
    "- Physionet2012 Challenge Paper: https://ieeexplore.ieee.org/abstract/document/6420376\n",
    "- Data Link: https://physionet.org/content/challenge-2012/1.0.0/\n"
   ]
  },
  {
   "cell_type": "markdown",
   "metadata": {},
   "source": [
    "## 1. Install ehrdata\n",
    "\n",
    "Install a development version:"
   ]
  },
  {
   "cell_type": "code",
   "execution_count": null,
   "metadata": {},
   "outputs": [],
   "source": [
    "!pip install \"ehrdata==0.0.2a1\""
   ]
  },
  {
   "cell_type": "markdown",
   "metadata": {},
   "source": [
    "## 2. Install ehrapy\n",
    "The ehrapy package does not yet support time-series operations, as this is a feature we're developing.\n",
    "\n",
    "But the latest developments can be used by executing the line below. This fetches the ehrapy repository, switches to the time-series branch, and installs the ehrapy package from this branch."
   ]
  },
  {
   "cell_type": "code",
   "execution_count": null,
   "metadata": {},
   "outputs": [],
   "source": [
    "!git clone https://github.com/theislab/ehrapy.git\n",
    "!cd ehrapy && git fetch && git checkout feature/time-series && pip install -e ."
   ]
  },
  {
   "cell_type": "markdown",
   "metadata": {},
   "source": [
    "**IMPORTANT** You need to restart your Jupyter kernel after running the ehrapy dev install; Only then will juptyer recognize the freshly installed ehrapy package.\n",
    "\n",
    "Once you restarted, you don't need to run the two \"installations\" above, but can continue directly below here."
   ]
  },
  {
   "cell_type": "markdown",
   "metadata": {},
   "source": [
    "## 3. Prepare the Physionet2012 Challenge Dataset\n",
    "\n",
    "### 3.1 Imports"
   ]
  },
  {
   "cell_type": "code",
   "execution_count": 1,
   "metadata": {},
   "outputs": [
    {
     "name": "stdout",
     "output_type": "stream",
     "text": [
      "1.26.4\n"
     ]
    }
   ],
   "source": [
    "import numpy as np\n",
    "print(np.__version__)"
   ]
  },
  {
   "cell_type": "code",
   "execution_count": null,
   "metadata": {},
   "outputs": [],
   "source": [
    "pip install \"numpy==1.26.4\""
   ]
  },
  {
   "cell_type": "code",
   "execution_count": 2,
   "metadata": {},
   "outputs": [
    {
     "name": "stdout",
     "output_type": "stream",
     "text": [
      "1.26.4\n"
     ]
    }
   ],
   "source": [
    "import numpy as np\n",
    "print(np.__version__)"
   ]
  },
  {
   "cell_type": "code",
   "execution_count": 2,
   "metadata": {},
   "outputs": [],
   "source": [
    "import numpy as np\n",
    "from pathlib import Path\n",
    "import ehrdata as ed"
   ]
  },
  {
   "cell_type": "markdown",
   "metadata": {},
   "source": [
    "### 3.2 Data Loading\n",
    "The physionet2012 challenge dataset is one of the ready-to-use datasets of `ehrdata`. See the documentation for further information."
   ]
  },
  {
   "cell_type": "code",
   "execution_count": 3,
   "metadata": {
    "scrolled": true
   },
   "outputs": [
    {
     "name": "stderr",
     "output_type": "stream",
     "text": [
      "/opt/anaconda3/envs/goodmimic/lib/python3.12/site-packages/anndata/_core/aligned_df.py:68: ImplicitModificationWarning: Transforming to str index.\n",
      "  warnings.warn(\"Transforming to str index.\", ImplicitModificationWarning)\n",
      "/opt/anaconda3/envs/goodmimic/lib/python3.12/site-packages/ehrdata/core/ehrdata.py:117: ImplicitModificationWarning: Setting element `.layers['r_layer']` of view, initializing view as actual.\n",
      "  self.layers[R_LAYER_KEY] = input\n"
     ]
    }
   ],
   "source": [
    "edata = ed.dt.physionet2012()"
   ]
  },
  {
   "cell_type": "markdown",
   "metadata": {},
   "source": [
    "The `edata` object contains the data in different fields. The most important ones are\n",
    "\n",
    "- `edata.r` is 3D n_obs x n_var x n_timesteps numpy array containing the time series data\n",
    "- `edata.obs` is a dataframe containing static information about the individuals\n",
    "- `edata.var` is a dataframe which can contain information on the features; here, its quite boring and just the names\n",
    "- `edata.t` is a dataframe which can contain information about the timeaxis; here, its quite boring and just the number of the hours\n"
   ]
  },
  {
   "cell_type": "code",
   "execution_count": 4,
   "metadata": {},
   "outputs": [
    {
     "data": {
      "text/plain": [
       "EHRData object with n_obs x n_var = 11988 x 37, and a timeseries of 48 steps.\n",
       "             shape of .X: (0, 0) \n",
       "             shape of .r: (11988, 37, 48) "
      ]
     },
     "execution_count": 4,
     "metadata": {},
     "output_type": "execute_result"
    }
   ],
   "source": [
    "edata"
   ]
  },
  {
   "cell_type": "code",
   "execution_count": 5,
   "metadata": {},
   "outputs": [
    {
     "data": {
      "text/plain": [
       "(11988, 37, 48)"
      ]
     },
     "execution_count": 5,
     "metadata": {},
     "output_type": "execute_result"
    }
   ],
   "source": [
    "edata.r.shape"
   ]
  },
  {
   "cell_type": "code",
   "execution_count": 6,
   "metadata": {},
   "outputs": [
    {
     "data": {
      "text/plain": [
       "array([[[   nan,    nan,    nan, ...,    nan,    nan,    nan],\n",
       "        [   nan,    nan,    nan, ...,    nan,    nan,    nan],\n",
       "        [   nan,    nan,    nan, ...,    nan,    nan,    nan],\n",
       "        ...,\n",
       "        [   nan,    nan,    nan, ...,    nan,    nan,    nan],\n",
       "        [ -1.  ,    nan,    nan, ...,    nan,    nan,    nan],\n",
       "        [   nan,    nan,    nan, ...,    nan,    nan,    nan]],\n",
       "\n",
       "       [[   nan,    nan,    nan, ...,    nan,    nan,    nan],\n",
       "        [   nan,    nan,    nan, ...,    nan,    nan,    nan],\n",
       "        [   nan,    nan,    nan, ...,    nan,    nan,    nan],\n",
       "        ...,\n",
       "        [   nan,   7.4 ,    nan, ...,    nan,    nan,    nan],\n",
       "        [ 76.  ,    nan,    nan, ...,  81.6 ,  81.6 ,  81.6 ],\n",
       "        [  7.45,   7.44,    nan, ...,   7.37,    nan,    nan]],\n",
       "\n",
       "       [[   nan, 127.  ,    nan, ...,    nan,    nan,    nan],\n",
       "        [   nan,  91.  ,    nan, ...,    nan,    nan,    nan],\n",
       "        [   nan, 235.  ,    nan, ...,    nan,    nan,    nan],\n",
       "        ...,\n",
       "        [   nan,   4.2 ,    nan, ...,    nan,    nan,    nan],\n",
       "        [ 56.7 ,  56.7 ,  56.7 , ...,  56.7 ,  56.7 ,  56.7 ],\n",
       "        [   nan,    nan,    nan, ...,    nan,    nan,    nan]],\n",
       "\n",
       "       ...,\n",
       "\n",
       "       [[   nan,    nan,    nan, ...,    nan,    nan,    nan],\n",
       "        [   nan,    nan,    nan, ...,    nan,    nan,    nan],\n",
       "        [   nan,    nan,    nan, ...,    nan,    nan,    nan],\n",
       "        ...,\n",
       "        [   nan,   5.5 ,    nan, ...,    nan,    nan,    nan],\n",
       "        [ 85.  ,    nan,    nan, ...,  93.  ,    nan,  93.  ],\n",
       "        [  7.43,    nan,    nan, ...,    nan,    nan,    nan]],\n",
       "\n",
       "       [[   nan,    nan,    nan, ...,    nan,    nan,    nan],\n",
       "        [   nan,    nan,    nan, ...,    nan,    nan,    nan],\n",
       "        [   nan,    nan,    nan, ...,    nan,    nan,    nan],\n",
       "        ...,\n",
       "        [ 27.4 ,    nan,    nan, ...,    nan,    nan,    nan],\n",
       "        [128.  , 128.  , 128.  , ..., 128.6 , 128.6 , 128.6 ],\n",
       "        [   nan,    nan,    nan, ...,    nan,    nan,    nan]],\n",
       "\n",
       "       [[   nan,  64.  ,    nan, ...,    nan,    nan,    nan],\n",
       "        [   nan,  23.  ,    nan, ...,    nan,    nan,    nan],\n",
       "        [   nan,  35.  ,    nan, ...,    nan,    nan,    nan],\n",
       "        ...,\n",
       "        [   nan,  19.5 ,    nan, ...,    nan,    nan,    nan],\n",
       "        [ 73.1 ,    nan,    nan, ...,    nan,    nan,    nan],\n",
       "        [  7.26,    nan,    nan, ...,    nan,    nan,    nan]]])"
      ]
     },
     "execution_count": 6,
     "metadata": {},
     "output_type": "execute_result"
    }
   ],
   "source": [
    "edata.r.copy()"
   ]
  },
  {
   "cell_type": "code",
   "execution_count": 7,
   "metadata": {},
   "outputs": [
    {
     "data": {
      "text/plain": [
       "In-hospital_death\n",
       "0    10281\n",
       "1     1707\n",
       "Name: count, dtype: int64"
      ]
     },
     "execution_count": 7,
     "metadata": {},
     "output_type": "execute_result"
    }
   ],
   "source": [
    "edata.obs['In-hospital_death'].value_counts()"
   ]
  },
  {
   "cell_type": "code",
   "execution_count": 8,
   "metadata": {},
   "outputs": [
    {
     "data": {
      "text/html": [
       "<div>\n",
       "<style scoped>\n",
       "    .dataframe tbody tr th:only-of-type {\n",
       "        vertical-align: middle;\n",
       "    }\n",
       "\n",
       "    .dataframe tbody tr th {\n",
       "        vertical-align: top;\n",
       "    }\n",
       "\n",
       "    .dataframe thead th {\n",
       "        text-align: right;\n",
       "    }\n",
       "</style>\n",
       "<table border=\"1\" class=\"dataframe\">\n",
       "  <thead>\n",
       "    <tr style=\"text-align: right;\">\n",
       "      <th></th>\n",
       "      <th>Parameter</th>\n",
       "    </tr>\n",
       "    <tr>\n",
       "      <th>Parameter</th>\n",
       "      <th></th>\n",
       "    </tr>\n",
       "  </thead>\n",
       "  <tbody>\n",
       "    <tr>\n",
       "      <th>ALP</th>\n",
       "      <td>ALP</td>\n",
       "    </tr>\n",
       "    <tr>\n",
       "      <th>ALT</th>\n",
       "      <td>ALT</td>\n",
       "    </tr>\n",
       "    <tr>\n",
       "      <th>AST</th>\n",
       "      <td>AST</td>\n",
       "    </tr>\n",
       "    <tr>\n",
       "      <th>Albumin</th>\n",
       "      <td>Albumin</td>\n",
       "    </tr>\n",
       "    <tr>\n",
       "      <th>BUN</th>\n",
       "      <td>BUN</td>\n",
       "    </tr>\n",
       "    <tr>\n",
       "      <th>Bilirubin</th>\n",
       "      <td>Bilirubin</td>\n",
       "    </tr>\n",
       "    <tr>\n",
       "      <th>Cholesterol</th>\n",
       "      <td>Cholesterol</td>\n",
       "    </tr>\n",
       "    <tr>\n",
       "      <th>Creatinine</th>\n",
       "      <td>Creatinine</td>\n",
       "    </tr>\n",
       "    <tr>\n",
       "      <th>DiasABP</th>\n",
       "      <td>DiasABP</td>\n",
       "    </tr>\n",
       "    <tr>\n",
       "      <th>FiO2</th>\n",
       "      <td>FiO2</td>\n",
       "    </tr>\n",
       "    <tr>\n",
       "      <th>GCS</th>\n",
       "      <td>GCS</td>\n",
       "    </tr>\n",
       "    <tr>\n",
       "      <th>Glucose</th>\n",
       "      <td>Glucose</td>\n",
       "    </tr>\n",
       "    <tr>\n",
       "      <th>HCO3</th>\n",
       "      <td>HCO3</td>\n",
       "    </tr>\n",
       "    <tr>\n",
       "      <th>HCT</th>\n",
       "      <td>HCT</td>\n",
       "    </tr>\n",
       "    <tr>\n",
       "      <th>HR</th>\n",
       "      <td>HR</td>\n",
       "    </tr>\n",
       "    <tr>\n",
       "      <th>K</th>\n",
       "      <td>K</td>\n",
       "    </tr>\n",
       "    <tr>\n",
       "      <th>Lactate</th>\n",
       "      <td>Lactate</td>\n",
       "    </tr>\n",
       "    <tr>\n",
       "      <th>MAP</th>\n",
       "      <td>MAP</td>\n",
       "    </tr>\n",
       "    <tr>\n",
       "      <th>MechVent</th>\n",
       "      <td>MechVent</td>\n",
       "    </tr>\n",
       "    <tr>\n",
       "      <th>Mg</th>\n",
       "      <td>Mg</td>\n",
       "    </tr>\n",
       "    <tr>\n",
       "      <th>NIDiasABP</th>\n",
       "      <td>NIDiasABP</td>\n",
       "    </tr>\n",
       "    <tr>\n",
       "      <th>NIMAP</th>\n",
       "      <td>NIMAP</td>\n",
       "    </tr>\n",
       "    <tr>\n",
       "      <th>NISysABP</th>\n",
       "      <td>NISysABP</td>\n",
       "    </tr>\n",
       "    <tr>\n",
       "      <th>Na</th>\n",
       "      <td>Na</td>\n",
       "    </tr>\n",
       "    <tr>\n",
       "      <th>PaCO2</th>\n",
       "      <td>PaCO2</td>\n",
       "    </tr>\n",
       "    <tr>\n",
       "      <th>PaO2</th>\n",
       "      <td>PaO2</td>\n",
       "    </tr>\n",
       "    <tr>\n",
       "      <th>Platelets</th>\n",
       "      <td>Platelets</td>\n",
       "    </tr>\n",
       "    <tr>\n",
       "      <th>RespRate</th>\n",
       "      <td>RespRate</td>\n",
       "    </tr>\n",
       "    <tr>\n",
       "      <th>SaO2</th>\n",
       "      <td>SaO2</td>\n",
       "    </tr>\n",
       "    <tr>\n",
       "      <th>SysABP</th>\n",
       "      <td>SysABP</td>\n",
       "    </tr>\n",
       "    <tr>\n",
       "      <th>Temp</th>\n",
       "      <td>Temp</td>\n",
       "    </tr>\n",
       "    <tr>\n",
       "      <th>TroponinI</th>\n",
       "      <td>TroponinI</td>\n",
       "    </tr>\n",
       "    <tr>\n",
       "      <th>TroponinT</th>\n",
       "      <td>TroponinT</td>\n",
       "    </tr>\n",
       "    <tr>\n",
       "      <th>Urine</th>\n",
       "      <td>Urine</td>\n",
       "    </tr>\n",
       "    <tr>\n",
       "      <th>WBC</th>\n",
       "      <td>WBC</td>\n",
       "    </tr>\n",
       "    <tr>\n",
       "      <th>Weight</th>\n",
       "      <td>Weight</td>\n",
       "    </tr>\n",
       "    <tr>\n",
       "      <th>pH</th>\n",
       "      <td>pH</td>\n",
       "    </tr>\n",
       "  </tbody>\n",
       "</table>\n",
       "</div>"
      ],
      "text/plain": [
       "               Parameter\n",
       "Parameter               \n",
       "ALP                  ALP\n",
       "ALT                  ALT\n",
       "AST                  AST\n",
       "Albumin          Albumin\n",
       "BUN                  BUN\n",
       "Bilirubin      Bilirubin\n",
       "Cholesterol  Cholesterol\n",
       "Creatinine    Creatinine\n",
       "DiasABP          DiasABP\n",
       "FiO2                FiO2\n",
       "GCS                  GCS\n",
       "Glucose          Glucose\n",
       "HCO3                HCO3\n",
       "HCT                  HCT\n",
       "HR                    HR\n",
       "K                      K\n",
       "Lactate          Lactate\n",
       "MAP                  MAP\n",
       "MechVent        MechVent\n",
       "Mg                    Mg\n",
       "NIDiasABP      NIDiasABP\n",
       "NIMAP              NIMAP\n",
       "NISysABP        NISysABP\n",
       "Na                    Na\n",
       "PaCO2              PaCO2\n",
       "PaO2                PaO2\n",
       "Platelets      Platelets\n",
       "RespRate        RespRate\n",
       "SaO2                SaO2\n",
       "SysABP            SysABP\n",
       "Temp                Temp\n",
       "TroponinI      TroponinI\n",
       "TroponinT      TroponinT\n",
       "Urine              Urine\n",
       "WBC                  WBC\n",
       "Weight            Weight\n",
       "pH                    pH"
      ]
     },
     "execution_count": 8,
     "metadata": {},
     "output_type": "execute_result"
    }
   ],
   "source": [
    "edata.var"
   ]
  },
  {
   "cell_type": "code",
   "execution_count": 9,
   "metadata": {},
   "outputs": [
    {
     "name": "stderr",
     "output_type": "stream",
     "text": [
      "/opt/anaconda3/envs/goodmimic/lib/python3.12/site-packages/ehrdata/core/ehrdata.py:117: ImplicitModificationWarning: Setting element `.layers['r_layer']` of view, initializing view as actual.\n",
      "  self.layers[R_LAYER_KEY] = input\n"
     ]
    }
   ],
   "source": [
    "# one drop and make it 36 features\n",
    "edata = edata[:, edata.var_names != \"MechVent\"] "
   ]
  },
  {
   "cell_type": "code",
   "execution_count": 10,
   "metadata": {},
   "outputs": [
    {
     "data": {
      "text/plain": [
       "((36, 1), (48, 1))"
      ]
     },
     "execution_count": 10,
     "metadata": {},
     "output_type": "execute_result"
    }
   ],
   "source": [
    "edata.var.shape,edata.t.shape"
   ]
  },
  {
   "cell_type": "markdown",
   "metadata": {},
   "source": [
    "### 4. Training a Sequence Model\n",
    "\n",
    "#### 4.1 Data Preprocessing\n",
    "\n",
    "This shows how the data can be split, prepared into a pytorch dataloader, and be used for a small pytorch model. The model itself is not competitive or \"good\", but is just a small example."
   ]
  },
  {
   "cell_type": "markdown",
   "metadata": {},
   "source": [
    "We split the data into train, validation, and test splits, using the \"set\" labels provided in the Physionet2012 challenge dataset. Any other split is also possible."
   ]
  },
  {
   "cell_type": "code",
   "execution_count": 11,
   "metadata": {},
   "outputs": [
    {
     "name": "stderr",
     "output_type": "stream",
     "text": [
      "/opt/anaconda3/envs/goodmimic/lib/python3.12/site-packages/ehrdata/core/ehrdata.py:117: ImplicitModificationWarning: Setting element `.layers['r_layer']` of view, initializing view as actual.\n",
      "  self.layers[R_LAYER_KEY] = input\n",
      "/opt/anaconda3/envs/goodmimic/lib/python3.12/site-packages/ehrdata/core/ehrdata.py:117: ImplicitModificationWarning: Setting element `.layers['r_layer']` of view, initializing view as actual.\n",
      "  self.layers[R_LAYER_KEY] = input\n",
      "/opt/anaconda3/envs/goodmimic/lib/python3.12/site-packages/ehrdata/core/ehrdata.py:117: ImplicitModificationWarning: Setting element `.layers['r_layer']` of view, initializing view as actual.\n",
      "  self.layers[R_LAYER_KEY] = input\n"
     ]
    }
   ],
   "source": [
    "from sklearn.model_selection import train_test_split\n",
    "\"\"\"# Step 1: Shuffle and split patient indices\n",
    "all_indices = np.arange(edata.n_obs)\n",
    "\n",
    "# Split into 50% train and 50% temp (val + test)\n",
    "train_idx, temp_idx = train_test_split(all_indices, test_size=0.5, random_state=42)\n",
    "\n",
    "# Split temp into 30% val and 20% test → test_size=0.4 of temp = 0.2 overall\n",
    "val_idx, test_idx = train_test_split(temp_idx, test_size=0.4, random_state=42)\n",
    "\n",
    "# Step 2: Update the `set` column in edata.obs to match the new splits\n",
    "edata.obs[\"set\"] = None\n",
    "edata.obs.iloc[train_idx, edata.obs.columns.get_loc(\"set\")] = \"set-a\"\n",
    "edata.obs.iloc[val_idx, edata.obs.columns.get_loc(\"set\")] = \"set-b\"\n",
    "edata.obs.iloc[test_idx, edata.obs.columns.get_loc(\"set\")] = \"set-c\"\"\"\n",
    "\n",
    "# Step 3: Use same logic as before to extract the splits\n",
    "edata_train = edata[edata.obs[\"set\"] == \"set-a\"]\n",
    "edata_val   = edata[edata.obs[\"set\"] == \"set-b\"]\n",
    "edata_test  = edata[edata.obs[\"set\"] == \"set-c\"]"
   ]
  },
  {
   "cell_type": "markdown",
   "metadata": {},
   "source": [
    "\n",
    "We perform a zero-mean and unit-variance normalization. For this, ehrapy provides some functionality:"
   ]
  },
  {
   "cell_type": "code",
   "execution_count": 12,
   "metadata": {},
   "outputs": [],
   "source": [
    "import ehrapy as ep"
   ]
  },
  {
   "cell_type": "code",
   "execution_count": 13,
   "metadata": {},
   "outputs": [],
   "source": [
    "scaler3d = ep.ts.StandardScaler3D()\n",
    "\n",
    "scaler3d.fit_transform(edata_train)\n",
    "scaler3d.transform(edata_val)\n",
    "scaler3d.transform(edata_test)"
   ]
  },
  {
   "cell_type": "markdown",
   "metadata": {},
   "source": [
    "To impute missing values, we now perform last observation carried forward imputation.\n",
    "There exist also more sophisticated methods for time-series imputation, e.g. [SAITS (Du et al., 2023)](https://doi.org/10.1016/j.eswa.2023.119619)."
   ]
  },
  {
   "cell_type": "code",
   "execution_count": 14,
   "metadata": {},
   "outputs": [],
   "source": [
    "locf = ep.ts.LOCFImputer()\n",
    "\n",
    "locf.fit_transform(edata_train)\n",
    "locf.transform(edata_val)\n",
    "locf.transform(edata_test)"
   ]
  },
  {
   "cell_type": "markdown",
   "metadata": {},
   "source": [
    "Finally, let us briefly explore the shape of the data: We have 37 numeric features, measured for 48 hours, and roughly 4'000 patients per split. The dataset is imbalanced, with ca 14% in-hospital death cases per split."
   ]
  },
  {
   "cell_type": "code",
   "execution_count": 15,
   "metadata": {},
   "outputs": [
    {
     "data": {
      "text/plain": [
       "EHRData object with n_obs x n_var = 11988 x 36, and a timeseries of 48 steps.\n",
       "             shape of .X: (0, 0) \n",
       "             shape of .r: (11988, 36, 48) "
      ]
     },
     "execution_count": 15,
     "metadata": {},
     "output_type": "execute_result"
    }
   ],
   "source": [
    "edata"
   ]
  },
  {
   "cell_type": "code",
   "execution_count": 16,
   "metadata": {},
   "outputs": [
    {
     "data": {
      "text/plain": [
       "EHRData object with n_obs x n_var = 3993 x 36, and a timeseries of 48 steps.\n",
       "             shape of .X: (0, 0) \n",
       "             shape of .r: (3993, 36, 48) "
      ]
     },
     "execution_count": 16,
     "metadata": {},
     "output_type": "execute_result"
    }
   ],
   "source": [
    "edata_val"
   ]
  },
  {
   "cell_type": "code",
   "execution_count": 17,
   "metadata": {},
   "outputs": [
    {
     "data": {
      "text/plain": [
       "EHRData object with n_obs x n_var = 3998 x 36, and a timeseries of 48 steps.\n",
       "             shape of .X: (0, 0) \n",
       "             shape of .r: (3998, 36, 48) "
      ]
     },
     "execution_count": 17,
     "metadata": {},
     "output_type": "execute_result"
    }
   ],
   "source": [
    "edata_test"
   ]
  },
  {
   "cell_type": "code",
   "execution_count": 18,
   "metadata": {},
   "outputs": [
    {
     "data": {
      "text/plain": [
       "EHRData object with n_obs x n_var = 3997 x 36, and a timeseries of 48 steps.\n",
       "             shape of .X: (0, 0) \n",
       "             shape of .r: (3997, 36, 48) "
      ]
     },
     "execution_count": 18,
     "metadata": {},
     "output_type": "execute_result"
    }
   ],
   "source": [
    "edata_train"
   ]
  },
  {
   "cell_type": "code",
   "execution_count": 19,
   "metadata": {},
   "outputs": [
    {
     "name": "stdout",
     "output_type": "stream",
     "text": [
      "positive rate in edata_train: 0.1386, absolute count: 554\n",
      "positive rate in edata_val: 0.1422, absolute count: 568\n",
      "positive rate in edata_test: 0.1463, absolute count: 585\n"
     ]
    }
   ],
   "source": [
    "print(\n",
    "    f\"positive rate in edata_train: {edata_train.obs['In-hospital_death'].mean():.4f}, absolute count: {edata_train.obs['In-hospital_death'].sum()}\"\n",
    ")\n",
    "\n",
    "print(\n",
    "    f\"positive rate in edata_val: {edata_val.obs['In-hospital_death'].mean():.4f}, absolute count: {edata_val.obs['In-hospital_death'].sum()}\"\n",
    ")\n",
    "\n",
    "print(\n",
    "    f\"positive rate in edata_test: {edata_test.obs['In-hospital_death'].mean():.4f}, absolute count: {edata_test.obs['In-hospital_death'].sum()}\"\n",
    ")"
   ]
  },
  {
   "cell_type": "markdown",
   "metadata": {},
   "source": [
    "#### 4.2 Model preparation\n",
    "\n",
    "The below part is not very specific for `ehrdata` or `ehrapyz` anymore, but more about `torch`.\n",
    "\n",
    "It just is a tiny showcase for a sequence model.\n",
    "\n",
    "We build a small sequence model in pytorch. More elaborate model architectures have been proposed for this dataset. Here, for demonstration purposes and as to avoid complexity, we focus on a simple architecture.\n",
    "\n",
    "In a nutshell, the model has a GRU block as sequence model, and a classification head."
   ]
  },
  {
   "cell_type": "code",
   "execution_count": 20,
   "metadata": {},
   "outputs": [],
   "source": [
    "import pandas as pd\n",
    "import numpy as np\n",
    "import matplotlib.pyplot as plt\n",
    "from sklearn.model_selection import train_test_split\n",
    "from datetime import datetime, timedelta\n",
    "\n",
    "import torch\n",
    "from torch import nn\n",
    "from torch import optim\n",
    "from torch.nn import functional as F\n",
    "from torch.optim.lr_scheduler import _LRScheduler\n",
    "from torch.utils.data import TensorDataset, DataLoader\n",
    "from torchinfo import summary\n",
    "from sklearn.metrics import roc_auc_score, precision_recall_curve, accuracy_score, f1_score, auc, confusion_matrix\n"
   ]
  },
  {
   "cell_type": "code",
   "execution_count": 21,
   "metadata": {},
   "outputs": [],
   "source": [
    "flat_order = list(edata.var.index)"
   ]
  },
  {
   "cell_type": "code",
   "execution_count": 22,
   "metadata": {},
   "outputs": [
    {
     "data": {
      "text/plain": [
       "['ALP',\n",
       " 'ALT',\n",
       " 'AST',\n",
       " 'Albumin',\n",
       " 'BUN',\n",
       " 'Bilirubin',\n",
       " 'Cholesterol',\n",
       " 'Creatinine',\n",
       " 'DiasABP',\n",
       " 'FiO2',\n",
       " 'GCS',\n",
       " 'Glucose',\n",
       " 'HCO3',\n",
       " 'HCT',\n",
       " 'HR',\n",
       " 'K',\n",
       " 'Lactate',\n",
       " 'MAP',\n",
       " 'Mg',\n",
       " 'NIDiasABP',\n",
       " 'NIMAP',\n",
       " 'NISysABP',\n",
       " 'Na',\n",
       " 'PaCO2',\n",
       " 'PaO2',\n",
       " 'Platelets',\n",
       " 'RespRate',\n",
       " 'SaO2',\n",
       " 'SysABP',\n",
       " 'Temp',\n",
       " 'TroponinI',\n",
       " 'TroponinT',\n",
       " 'Urine',\n",
       " 'WBC',\n",
       " 'Weight',\n",
       " 'pH']"
      ]
     },
     "execution_count": 22,
     "metadata": {},
     "output_type": "execute_result"
    }
   ],
   "source": [
    "flat_order"
   ]
  },
  {
   "cell_type": "code",
   "execution_count": 23,
   "metadata": {},
   "outputs": [],
   "source": [
    "# Get feature indices from edata.var\n",
    "indices = [edata.var.index.get_loc(f) for f in flat_order]\n",
    "\n",
    "# Reorder time series data in edata.r\n",
    "edata_train.r = edata_train.r[:, indices, :]\n",
    "edata_val.r = edata_val.r[:, indices, :]\n",
    "edata_test.r = edata_test.r[:, indices, :]"
   ]
  },
  {
   "cell_type": "code",
   "execution_count": 24,
   "metadata": {},
   "outputs": [
    {
     "data": {
      "image/png": "[encoded data removed]",
      "text/latex": [
       "$\\displaystyle \\left( 3997, \\  36, \\  48\\right)$"
      ],
      "text/plain": [
       "(3997, 36, 48)"
      ]
     },
     "execution_count": 24,
     "metadata": {},
     "output_type": "execute_result"
    }
   ],
   "source": [
    "edata_train.r.shape"
   ]
  },
  {
   "cell_type": "code",
   "execution_count": 25,
   "metadata": {},
   "outputs": [],
   "source": [
    "def reshape_to_6x6_tensor(x):\n",
    "    # x shape: (n_samples, 36, 48)\n",
    "    x = x.transpose(0, 2, 1)  # → (n_samples, 48, 36)\n",
    "    x = x.reshape(x.shape[0], x.shape[1], 6, 6)  # → (n_samples, 48, 6, 6)\n",
    "    x = x[:, :, None, :, :]  # → (n_samples, 48, 1, 6, 6)\n",
    "    return x\n"
   ]
  },
  {
   "cell_type": "code",
   "execution_count": 26,
   "metadata": {},
   "outputs": [],
   "source": [
    "y_train = edata_train.obs[\"In-hospital_death\"].values\n",
    "y_val = edata_val.obs[\"In-hospital_death\"].values\n",
    "y_test = edata_test.obs[\"In-hospital_death\"].values"
   ]
  },
  {
   "cell_type": "code",
   "execution_count": 51,
   "metadata": {},
   "outputs": [],
   "source": [
    "x_train = reshape_to_6x6_tensor(edata_train.r)\n",
    "x_val = reshape_to_6x6_tensor(edata_val.r)\n",
    "x_test = reshape_to_6x6_tensor(edata_test.r)"
   ]
  },
  {
   "cell_type": "code",
   "execution_count": 52,
   "metadata": {},
   "outputs": [],
   "source": [
    "x_train = np.transpose(x_train, (0, 2, 1, 3, 4))\n",
    "x_val = np.transpose(x_val, (0, 2, 1, 3, 4))\n",
    "x_test = np.transpose(x_test, (0, 2, 1, 3, 4))"
   ]
  },
  {
   "cell_type": "code",
   "execution_count": 53,
   "metadata": {},
   "outputs": [
    {
     "data": {
      "image/png": "[encoded data removed]",
      "text/latex": [
       "$\\displaystyle \\left( 3997, \\  1, \\  48, \\  6, \\  6\\right)$"
      ],
      "text/plain": [
       "(3997, 1, 48, 6, 6)"
      ]
     },
     "execution_count": 53,
     "metadata": {},
     "output_type": "execute_result"
    }
   ],
   "source": [
    "x_train.shape"
   ]
  },
  {
   "cell_type": "code",
   "execution_count": 33,
   "metadata": {},
   "outputs": [
    {
     "data": {
      "text/plain": [
       "'from torch.utils.data import DataLoader, TensorDataset, WeightedRandomSampler\\nimport numpy as np\\n\\n# Convert y_train to numpy if needed\\nlabels = y_train if isinstance(y_train, np.ndarray) else y_train.numpy()\\nclass_sample_count = np.bincount(labels)\\nclass_weights = 1. / class_sample_count\\nsample_weights = class_weights[labels]\\nsample_weights = torch.from_numpy(sample_weights).float()\\n\\n# Create weighted sampler\\nsampler = WeightedRandomSampler(weights=sample_weights,\\n                                num_samples=len(sample_weights),\\n                                replacement=True)'"
      ]
     },
     "execution_count": 33,
     "metadata": {},
     "output_type": "execute_result"
    }
   ],
   "source": [
    "\"\"\"from torch.utils.data import DataLoader, TensorDataset, WeightedRandomSampler\n",
    "import numpy as np\n",
    "\n",
    "# Convert y_train to numpy if needed\n",
    "labels = y_train if isinstance(y_train, np.ndarray) else y_train.numpy()\n",
    "class_sample_count = np.bincount(labels)\n",
    "class_weights = 1. / class_sample_count\n",
    "sample_weights = class_weights[labels]\n",
    "sample_weights = torch.from_numpy(sample_weights).float()\n",
    "\n",
    "# Create weighted sampler\n",
    "sampler = WeightedRandomSampler(weights=sample_weights,\n",
    "                                num_samples=len(sample_weights),\n",
    "                                replacement=True)\"\"\""
   ]
  },
  {
   "cell_type": "code",
   "execution_count": 54,
   "metadata": {},
   "outputs": [],
   "source": [
    "# 2. Convert to tensors\n",
    "trn_ds = TensorDataset(torch.tensor(x_train).float(), torch.tensor(y_train).long())\n",
    "val_ds = TensorDataset(torch.tensor(x_val).float(), torch.tensor(y_val).long())\n",
    "tst_ds = TensorDataset(torch.tensor(x_test).float(), torch.tensor(y_test).long())"
   ]
  },
  {
   "cell_type": "code",
   "execution_count": 55,
   "metadata": {},
   "outputs": [
    {
     "data": {
      "image/png": "[encoded data removed]",
      "text/latex": [
       "$\\displaystyle \\left( 3997, \\  1, \\  48, \\  6, \\  6\\right)$"
      ],
      "text/plain": [
       "(3997, 1, 48, 6, 6)"
      ]
     },
     "execution_count": 55,
     "metadata": {},
     "output_type": "execute_result"
    }
   ],
   "source": [
    "x_train.shape\n"
   ]
  },
  {
   "cell_type": "code",
   "execution_count": 56,
   "metadata": {},
   "outputs": [],
   "source": [
    "# 3. Create data loaders\n",
    "trn_dl = DataLoader(trn_ds, batch_size=256, shuffle=True)\n",
    "val_dl = DataLoader(val_ds, batch_size=256, shuffle=False)\n",
    "tst_dl = DataLoader(tst_ds, batch_size=256, shuffle=False)"
   ]
  },
  {
   "cell_type": "code",
   "execution_count": 57,
   "metadata": {},
   "outputs": [],
   "source": [
    "device = torch.device('cuda:0' if torch.cuda.is_available() else 'cpu')"
   ]
  },
  {
   "cell_type": "code",
   "execution_count": 93,
   "metadata": {},
   "outputs": [
    {
     "data": {
      "text/plain": [
       "'class Classifier(nn.Module):\\n    def __init__(self, raw_ni, no, input_time_steps=48, drop=0.5):\\n        super().__init__()\\n\\n        # First and second conv layer\\n        self.conv_block = nn.Sequential(\\n            CostumConv1d(raw_ni, 64, kernel=3, stride=1, pad=0, drop=drop),\\n            CostumConv1d(64, 128, kernel=3, stride=1, pad=0, drop=drop),\\n            nn.MaxPool1d(kernel_size=2, stride=2)\\n        )\\n        self.flatten = Flatten()\\n\\n        # Dynamically calculate flattened size\\n        with torch.no_grad():\\n            dummy_input = torch.zeros(1, raw_ni, input_time_steps)\\n            dummy_output = self.conv_block(dummy_input)\\n            flat_dim = dummy_output.view(1, -1).shape[1]\\n\\n        self.fc = nn.Sequential(\\n            nn.Dropout(drop), nn.Linear(flat_dim, 64), nn.ReLU(inplace=True),\\n            nn.Dropout(drop), nn.Linear(64, 64), nn.ReLU(inplace=True),\\n            nn.Linear(64, no)\\n        )\\n\\n    def forward(self, t_raw):\\n        x = self.conv_block(t_raw)\\n        x = self.flatten(x)\\n        return self.fc(x)'"
      ]
     },
     "execution_count": 93,
     "metadata": {},
     "output_type": "execute_result"
    }
   ],
   "source": [
    "class CostumConv3d(nn.Module):\n",
    "    def __init__(self, ni, no, kernel, stride, pad, drop=None, activ=lambda: nn.ReLU(inplace=True)):\n",
    "        super().__init__()\n",
    "        assert drop is None or (0.0 < drop < 1.0)\n",
    "        layers = [nn.Conv3d(ni, no, kernel, stride, pad)]\n",
    "        if activ:\n",
    "            layers.append(activ())\n",
    "        if drop is not None:\n",
    "            layers.append(nn.Dropout3d(drop))  # 3D Dropout for consistency\n",
    "        self.layers = nn.Sequential(*layers)\n",
    "\n",
    "    def forward(self, x):\n",
    "        return self.layers(x)\n",
    "\n",
    "\n",
    "class Flatten(nn.Module):\n",
    "    def __init__(self, keep_batch_dim=True):\n",
    "        super().__init__()\n",
    "        self.keep_batch_dim = keep_batch_dim\n",
    "\n",
    "    def forward(self, x):\n",
    "        if self.keep_batch_dim:\n",
    "            return x.view(x.size(0), -1)\n",
    "        return x.view(-1)\n",
    "\n",
    "        \n",
    "# === NEW: Learnable permutation layer ===\n",
    "class Permutation3DLayer(nn.Module):\n",
    "    def __init__(self, num_features=36):\n",
    "        super().__init__()\n",
    "        self.num_features = num_features\n",
    "        self.permutation_logits = nn.Parameter(torch.randn(num_features, num_features))  # learnable matrix\n",
    "\n",
    "    def forward(self, x):\n",
    "        # Compute soft permutation matrix (row-wise softmax)\n",
    "        perm = torch.softmax(self.permutation_logits, dim=1)  # shape: (36, 36)\n",
    "\n",
    "        # Save for inspection\n",
    "        self.permutation_matrix = perm.detach().cpu().numpy()\n",
    "\n",
    "        # Reshape input: (B, C=1, T, H=6, W=6) → (B, T, 36)\n",
    "        B, C, T, H, W = x.shape\n",
    "        x_flat = x.view(B, T, H * W)  # (B, T, 36)\n",
    "\n",
    "        # Apply permutation to each time step\n",
    "        x_permuted = torch.matmul(x_flat, perm.T)  # (B, T, 36)\n",
    "\n",
    "        # Reshape back to 3D image format\n",
    "        x_permuted = x_permuted.view(B, C, T, H, W)\n",
    "        return x_permuted\n",
    "\n",
    "\n",
    "\n",
    "class Classifier(nn.Module):\n",
    "    def __init__(self, raw_ni=None, no=2, drop=0.5):\n",
    "        super().__init__()\n",
    "\n",
    "        self.permute = Permutation3DLayer(num_features=36)\n",
    "\n",
    "        self.conv_block = nn.Sequential(\n",
    "            CostumConv3d(1, 16, kernel=(48, 5, 5), stride=1, pad=1, drop=drop),\n",
    "            CostumConv3d(16, 32, kernel=(5, 5, 5), stride=1, pad=1, drop=drop),\n",
    "            nn.AdaptiveAvgPool3d((1, 1, 1))  # → (batch, 32, 1, 1, 1)\n",
    "        )\n",
    "\n",
    "        self.flatten = Flatten()\n",
    "\n",
    "        self.fc = nn.Sequential(\n",
    "            #nn.Dropout(drop),\n",
    "            #nn.Linear(32, 64),  \n",
    "            #nn.ReLU(inplace=True),\n",
    "            #nn.Dropout(drop),\n",
    "            #nn.Linear(64, 64),\n",
    "            #nn.ReLU(inplace=True),\n",
    "            nn.Linear(32, no)\n",
    "        )\n",
    "\n",
    "    def forward(self, t_raw):\n",
    "        # t_raw shape: (batch, 1, 48, 6, 6)\n",
    "        x = self.permute(t_raw)\n",
    "        x = self.conv_block(x)  # → (batch, 32, 1, 1, 1)\n",
    "        x = self.flatten(x)         # → (batch, 32)\n",
    "        return self.fc(x)\n",
    "\n",
    "\n",
    "        \n",
    "\"\"\"class Classifier(nn.Module):\n",
    "    def __init__(self, raw_ni, no, input_time_steps=48, drop=0.5):\n",
    "        super().__init__()\n",
    "\n",
    "        # First and second conv layer\n",
    "        self.conv_block = nn.Sequential(\n",
    "            CostumConv1d(raw_ni, 64, kernel=3, stride=1, pad=0, drop=drop),\n",
    "            CostumConv1d(64, 128, kernel=3, stride=1, pad=0, drop=drop),\n",
    "            nn.MaxPool1d(kernel_size=2, stride=2)\n",
    "        )\n",
    "        self.flatten = Flatten()\n",
    "\n",
    "        # Dynamically calculate flattened size\n",
    "        with torch.no_grad():\n",
    "            dummy_input = torch.zeros(1, raw_ni, input_time_steps)\n",
    "            dummy_output = self.conv_block(dummy_input)\n",
    "            flat_dim = dummy_output.view(1, -1).shape[1]\n",
    "\n",
    "        self.fc = nn.Sequential(\n",
    "            nn.Dropout(drop), nn.Linear(flat_dim, 64), nn.ReLU(inplace=True),\n",
    "            nn.Dropout(drop), nn.Linear(64, 64), nn.ReLU(inplace=True),\n",
    "            nn.Linear(64, no)\n",
    "        )\n",
    "\n",
    "    def forward(self, t_raw):\n",
    "        x = self.conv_block(t_raw)\n",
    "        x = self.flatten(x)\n",
    "        return self.fc(x)\"\"\"\n"
   ]
  },
  {
   "cell_type": "code",
   "execution_count": 94,
   "metadata": {},
   "outputs": [
    {
     "data": {
      "text/plain": [
       "(torch.Size([157, 1, 48, 6, 6]), torch.Size([157]))"
      ]
     },
     "execution_count": 94,
     "metadata": {},
     "output_type": "execute_result"
    }
   ],
   "source": [
    "for epoch in range(1):\n",
    "    epoch_loss = 0\n",
    "    for i, batch in enumerate(trn_dl):\n",
    "        x_raw, y_batch = [t.to(device) for t in batch]\n",
    "x_raw.shape,y_batch.shape\n"
   ]
  },
  {
   "cell_type": "code",
   "execution_count": 95,
   "metadata": {},
   "outputs": [
    {
     "name": "stdout",
     "output_type": "stream",
     "text": [
      "Dummy input shape: torch.Size([1, 1, 48, 6, 6])\n",
      "Output shape: torch.Size([1, 2])\n",
      "Start model training\n"
     ]
    }
   ],
   "source": [
    "#raw_feat = x_train.shape[1]  # 37 features = 37 input channels\n",
    "num_classes = 2\n",
    "drop = 0.3\n",
    "loss_history = []\n",
    "acc_history = []\n",
    "patience, trials = 200, 0\n",
    "base, step = 1, 2\n",
    "best_acc = 0\n",
    "n_epochs = 100\n",
    "\n",
    "model = Classifier(no=num_classes, drop=drop).to(device)\n",
    "#criterion = nn.CrossEntropyLoss()\n",
    "criterion = nn.CrossEntropyLoss() #Compares predicted logits (before softmax) to true labels\n",
    "opt = optim.Adam(model.parameters(), lr=0.001)\n",
    "\n",
    "# Example pass-through for shape check\n",
    "x_dummy = torch.randn(1,1,48,6,6).to(device)\n",
    "print(\"Dummy input shape:\", x_dummy.shape)\n",
    "with torch.no_grad():\n",
    "    print(\"Output shape:\", model(x_dummy).shape)\n",
    "\n",
    "model = Classifier(no=num_classes, drop=drop).to(device)\n",
    "criterion = nn.CrossEntropyLoss()\n",
    "opt = optim.Adam(model.parameters(), lr=0.001)\n",
    "\n",
    "print('Start model training')\n",
    "\n"
   ]
  },
  {
   "cell_type": "code",
   "execution_count": 96,
   "metadata": {},
   "outputs": [
    {
     "name": "stdout",
     "output_type": "stream",
     "text": [
      "Epoch:   1. Loss: 0.5779. Acc.: 85.78%\n",
      "Epoch 1 best model saved with accuracy: 85.78%\n",
      "Epoch:   2. Loss: 0.4888. Acc.: 85.78%\n",
      "Epoch:   4. Loss: 0.4169. Acc.: 85.78%\n",
      "Epoch 6 best model saved with accuracy: 85.85%\n",
      "Epoch 7 best model saved with accuracy: 86.15%\n",
      "Epoch:   8. Loss: 0.3703. Acc.: 86.28%\n",
      "Epoch 8 best model saved with accuracy: 86.28%\n",
      "Epoch 10 best model saved with accuracy: 86.33%\n",
      "Epoch 12 best model saved with accuracy: 86.35%\n",
      "Epoch 13 best model saved with accuracy: 86.53%\n",
      "Epoch:  16. Loss: 0.3100. Acc.: 86.80%\n",
      "Epoch 16 best model saved with accuracy: 86.80%\n",
      "Epoch 20 best model saved with accuracy: 86.98%\n",
      "Epoch 22 best model saved with accuracy: 87.03%\n",
      "Epoch 24 best model saved with accuracy: 87.05%\n",
      "Epoch:  32. Loss: 0.2619. Acc.: 86.70%\n",
      "Epoch:  64. Loss: 0.1912. Acc.: 84.90%\n",
      "Done!\n"
     ]
    }
   ],
   "source": [
    "for epoch in range(1, n_epochs + 1):\n",
    "    model.train()\n",
    "    epoch_loss = 0\n",
    "    for x_raw, y_batch in trn_dl:\n",
    "        x_raw, y_batch = x_raw.to(device), y_batch.to(device)\n",
    "        opt.zero_grad()\n",
    "        out = model(x_raw)\n",
    "        loss = criterion(out, y_batch)\n",
    "        epoch_loss += loss.item()\n",
    "        loss.backward()\n",
    "        opt.step()\n",
    "\n",
    "    epoch_loss /= len(trn_dl)\n",
    "    loss_history.append(epoch_loss)\n",
    "\n",
    "    # Validation\n",
    "    model.eval()\n",
    "    correct, total = 0, 0\n",
    "    for x_raw, y_batch in val_dl:\n",
    "        x_raw, y_batch = x_raw.to(device), y_batch.to(device)\n",
    "        out = model(x_raw)\n",
    "        preds = F.log_softmax(out, dim=1).argmax(dim=1)\n",
    "        correct += (preds == y_batch).sum().item()\n",
    "        total += y_batch.size(0)\n",
    "\n",
    "    acc = correct / total\n",
    "    acc_history.append(acc)\n",
    "\n",
    "    if epoch % base == 0:\n",
    "        print(f\"Epoch: {epoch:3d}. Loss: {epoch_loss:.4f}. Acc.: {acc:2.2%}\")\n",
    "        base *= step\n",
    "\n",
    "    if acc > best_acc:\n",
    "        best_acc = acc\n",
    "        trials = 0\n",
    "        torch.save(model.state_dict(), \"best.pth\")\n",
    "        print(f\"Epoch {epoch} best model saved with accuracy: {best_acc:2.2%}\")\n",
    "    else:\n",
    "        trials += 1\n",
    "        if trials >= patience:\n",
    "            print(f\"Early stopping on epoch {epoch}\")\n",
    "            break\n",
    "\n",
    "print(\"Done!\")"
   ]
  },
  {
   "cell_type": "code",
   "execution_count": 97,
   "metadata": {},
   "outputs": [],
   "source": [
    "def smooth(y, box_pts):\n",
    "    box = np.ones(box_pts)/box_pts\n",
    "    y_smooth = np.convolve(y, box, mode='same')\n",
    "    return y_smooth"
   ]
  },
  {
   "cell_type": "code",
   "execution_count": 98,
   "metadata": {},
   "outputs": [
    {
     "data": {
      "image/png": "[encoded data removed]",
      "text/plain": [
       "<Figure size 1200x400 with 2 Axes>"
      ]
     },
     "metadata": {},
     "output_type": "display_data"
    }
   ],
   "source": [
    "f, ax = plt.subplots(1, 2, figsize=(12, 4))\n",
    "\n",
    "ax[0].plot(loss_history, label='loss')\n",
    "ax[0].set_title('Validation Loss History')\n",
    "ax[0].set_xlabel('Epoch no.')\n",
    "ax[0].set_ylabel('Loss')\n",
    "\n",
    "ax[1].plot(smooth(acc_history, 5)[:-2], label='acc')\n",
    "ax[1].set_title('Validation Accuracy History')\n",
    "ax[1].set_xlabel('Epoch no.')\n",
    "ax[1].set_ylabel('Accuracy');"
   ]
  },
  {
   "cell_type": "code",
   "execution_count": 99,
   "metadata": {},
   "outputs": [],
   "source": [
    "preds_array = np.array([])\n",
    "for batch in tst_dl:\n",
    "        x_raw, y_batch = [t.to(device) for t in batch]\n",
    "        out = model(x_raw)\n",
    "        preds = F.log_softmax(out, dim=1).argmax(dim=1).numpy()\n",
    "        preds_array = np.concatenate((preds_array, preds), axis=None)"
   ]
  },
  {
   "cell_type": "code",
   "execution_count": 100,
   "metadata": {},
   "outputs": [
    {
     "data": {
      "text/plain": [
       "array([[3130,  283],\n",
       "       [ 352,  233]])"
      ]
     },
     "execution_count": 100,
     "metadata": {},
     "output_type": "execute_result"
    }
   ],
   "source": [
    "from sklearn.metrics import confusion_matrix\n",
    "confusion_matrix(y_test, preds_array)"
   ]
  },
  {
   "cell_type": "code",
   "execution_count": 101,
   "metadata": {},
   "outputs": [
    {
     "name": "stdout",
     "output_type": "stream",
     "text": [
      "              precision    recall  f1-score   support\n",
      "\n",
      "     class 1       0.90      0.92      0.91      3413\n",
      "     class 2       0.45      0.40      0.42       585\n",
      "\n",
      "    accuracy                           0.84      3998\n",
      "   macro avg       0.68      0.66      0.67      3998\n",
      "weighted avg       0.83      0.84      0.84      3998\n",
      "\n"
     ]
    }
   ],
   "source": [
    "from sklearn.metrics import classification_report\n",
    "target_names = ['class 1', 'class 2']\n",
    "print(classification_report(y_test, preds_array, target_names=target_names))"
   ]
  },
  {
   "cell_type": "code",
   "execution_count": 102,
   "metadata": {},
   "outputs": [
    {
     "data": {
      "text/plain": [
       "==========================================================================================\n",
       "Layer (type:depth-idx)                   Output Shape              Param #\n",
       "==========================================================================================\n",
       "Classifier                               [1, 2]                    --\n",
       "├─Permutation3DLayer: 1-1                [1, 1, 48, 6, 6]          1,296\n",
       "├─Sequential: 1-2                        [1, 32, 1, 1, 1]          --\n",
       "│    └─CostumConv3d: 2-1                 [1, 16, 3, 4, 4]          --\n",
       "│    │    └─Sequential: 3-1              [1, 16, 3, 4, 4]          19,216\n",
       "│    └─CostumConv3d: 2-2                 [1, 32, 1, 2, 2]          --\n",
       "│    │    └─Sequential: 3-2              [1, 32, 1, 2, 2]          64,032\n",
       "│    └─AdaptiveAvgPool3d: 2-3            [1, 32, 1, 1, 1]          --\n",
       "├─Flatten: 1-3                           [1, 32]                   --\n",
       "├─Sequential: 1-4                        [1, 2]                    --\n",
       "│    └─Linear: 2-4                       [1, 2]                    66\n",
       "==========================================================================================\n",
       "Total params: 84,610\n",
       "Trainable params: 84,610\n",
       "Non-trainable params: 0\n",
       "Total mult-adds (Units.MEGABYTES): 1.18\n",
       "==========================================================================================\n",
       "Input size (MB): 0.01\n",
       "Forward/backward pass size (MB): 0.02\n",
       "Params size (MB): 0.34\n",
       "Estimated Total Size (MB): 0.37\n",
       "=========================================================================================="
      ]
     },
     "execution_count": 102,
     "metadata": {},
     "output_type": "execute_result"
    }
   ],
   "source": [
    "summary(model, input_size=(1,1,48,6,6)) "
   ]
  },
  {
   "cell_type": "code",
   "execution_count": 86,
   "metadata": {},
   "outputs": [],
   "source": [
    "perm_matrix = model.permute.permutation_matrix\n"
   ]
  },
  {
   "cell_type": "code",
   "execution_count": 87,
   "metadata": {},
   "outputs": [
    {
     "data": {
      "image/png": "[encoded data removed]",
      "text/plain": [
       "<Figure size 800x600 with 2 Axes>"
      ]
     },
     "metadata": {},
     "output_type": "display_data"
    }
   ],
   "source": [
    "import matplotlib.pyplot as plt\n",
    "import seaborn as sns\n",
    "\n",
    "plt.figure(figsize=(8, 6))\n",
    "sns.heatmap(perm_matrix, cmap=\"viridis\")\n",
    "plt.title(\"Learned Feature Permutation Matrix\")\n",
    "plt.xlabel(\"Original Feature Index\")\n",
    "plt.ylabel(\"Reordered Feature Index\")\n",
    "plt.show()\n"
   ]
  },
  {
   "cell_type": "code",
   "execution_count": 88,
   "metadata": {},
   "outputs": [
    {
     "name": "stdout",
     "output_type": "stream",
     "text": [
      "[[0.01733938 0.02902483 0.00804246 ... 0.01368032 0.01170797 0.00673565]\n",
      " [0.02474411 0.03543083 0.00428635 ... 0.01864605 0.02830404 0.0459756 ]\n",
      " [0.00942398 0.00527485 0.01173626 ... 0.01377615 0.00318359 0.00635651]\n",
      " ...\n",
      " [0.01494855 0.01334845 0.01055408 ... 0.01459417 0.0115473  0.01475358]\n",
      " [0.01800568 0.02106868 0.02376336 ... 0.00662325 0.00168706 0.01336315]\n",
      " [0.01009202 0.05490435 0.00932856 ... 0.01507223 0.00480522 0.07759682]]\n"
     ]
    }
   ],
   "source": [
    "print(model.permute.permutation_matrix)"
   ]
  },
  {
   "cell_type": "code",
   "execution_count": 89,
   "metadata": {},
   "outputs": [
    {
     "name": "stdout",
     "output_type": "stream",
     "text": [
      "Reordered index  0 ← DiasABP         (weight: 0.233)\n",
      "Reordered index  1 ← RespRate        (weight: 0.132)\n",
      "Reordered index  2 ← PaO2            (weight: 0.275)\n",
      "Reordered index  3 ← FiO2            (weight: 0.219)\n",
      "Reordered index  4 ← HCO3            (weight: 0.124)\n",
      "Reordered index  5 ← HCT             (weight: 0.138)\n",
      "Reordered index  6 ← NIDiasABP       (weight: 0.145)\n",
      "Reordered index  7 ← Albumin         (weight: 0.121)\n",
      "Reordered index  8 ← TroponinI       (weight: 0.090)\n",
      "Reordered index  9 ← NIMAP           (weight: 0.176)\n",
      "Reordered index 10 ← Creatinine      (weight: 0.129)\n",
      "Reordered index 11 ← HR              (weight: 0.166)\n",
      "Reordered index 12 ← NIDiasABP       (weight: 0.110)\n",
      "Reordered index 13 ← GCS             (weight: 0.167)\n",
      "Reordered index 14 ← Cholesterol     (weight: 0.156)\n",
      "Reordered index 15 ← Na              (weight: 0.536)\n",
      "Reordered index 16 ← NISysABP        (weight: 0.147)\n",
      "Reordered index 17 ← WBC             (weight: 0.086)\n",
      "Reordered index 18 ← Urine           (weight: 0.272)\n",
      "Reordered index 19 ← AST             (weight: 0.162)\n",
      "Reordered index 20 ← RespRate        (weight: 0.130)\n",
      "Reordered index 21 ← BUN             (weight: 0.221)\n",
      "Reordered index 22 ← DiasABP         (weight: 0.116)\n",
      "Reordered index 23 ← NISysABP        (weight: 0.100)\n",
      "Reordered index 24 ← Albumin         (weight: 0.108)\n",
      "Reordered index 25 ← Platelets       (weight: 0.117)\n",
      "Reordered index 26 ← NIMAP           (weight: 0.156)\n",
      "Reordered index 27 ← Temp            (weight: 0.125)\n",
      "Reordered index 28 ← Albumin         (weight: 0.060)\n",
      "Reordered index 29 ← Urine           (weight: 0.152)\n",
      "Reordered index 30 ← TroponinT       (weight: 0.114)\n",
      "Reordered index 31 ← Lactate         (weight: 0.208)\n",
      "Reordered index 32 ← PaO2            (weight: 0.185)\n",
      "Reordered index 33 ← RespRate        (weight: 0.162)\n",
      "Reordered index 34 ← HR              (weight: 0.128)\n",
      "Reordered index 35 ← Creatinine      (weight: 0.142)\n"
     ]
    }
   ],
   "source": [
    "import numpy as np\n",
    "\n",
    "# Let's assume you have your feature names\n",
    "feature_names = list(edata.var.index)\n",
    "\n",
    "# For each reordered feature index (row), find the most contributing original feature(s)\n",
    "for i, row in enumerate(perm_matrix):\n",
    "    top_feature_idx = np.argmax(row)  # Index of most important original feature\n",
    "    top_feature = feature_names[top_feature_idx]\n",
    "    top_weight = row[top_feature_idx]\n",
    "    print(f\"Reordered index {i:2d} ← {top_feature:15s} (weight: {top_weight:.3f})\")\n"
   ]
  },
  {
   "cell_type": "code",
   "execution_count": 90,
   "metadata": {},
   "outputs": [
    {
     "name": "stdout",
     "output_type": "stream",
     "text": [
      "\n",
      "Global feature importance (across all reordered positions):\n",
      "PaO2           : 1.340\n",
      "Urine          : 1.326\n",
      "RespRate       : 1.299\n",
      "Na             : 1.281\n",
      "GCS            : 1.274\n",
      "TroponinT      : 1.254\n",
      "HCO3           : 1.171\n",
      "NIDiasABP      : 1.162\n",
      "NIMAP          : 1.156\n",
      "HR             : 1.135\n"
     ]
    }
   ],
   "source": [
    "# Sum of each column across all rows → importance of original feature\n",
    "feature_importance = perm_matrix.sum(axis=0)\n",
    "\n",
    "# Sort and display\n",
    "sorted_idx = np.argsort(feature_importance)[::-1]\n",
    "print(\"\\nGlobal feature importance (across all reordered positions):\")\n",
    "for idx in sorted_idx[:10]:\n",
    "    print(f\"{feature_names[idx]:15s}: {feature_importance[idx]:.3f}\")\n"
   ]
  },
  {
   "cell_type": "code",
   "execution_count": 91,
   "metadata": {},
   "outputs": [
    {
     "data": {
      "text/plain": [
       "['ALP',\n",
       " 'ALT',\n",
       " 'AST',\n",
       " 'Albumin',\n",
       " 'BUN',\n",
       " 'Bilirubin',\n",
       " 'Cholesterol',\n",
       " 'Creatinine',\n",
       " 'DiasABP',\n",
       " 'FiO2',\n",
       " 'GCS',\n",
       " 'Glucose',\n",
       " 'HCO3',\n",
       " 'HCT',\n",
       " 'HR',\n",
       " 'K',\n",
       " 'Lactate',\n",
       " 'MAP',\n",
       " 'Mg',\n",
       " 'NIDiasABP',\n",
       " 'NIMAP',\n",
       " 'NISysABP',\n",
       " 'Na',\n",
       " 'PaCO2',\n",
       " 'PaO2',\n",
       " 'Platelets',\n",
       " 'RespRate',\n",
       " 'SaO2',\n",
       " 'SysABP',\n",
       " 'Temp',\n",
       " 'TroponinI',\n",
       " 'TroponinT',\n",
       " 'Urine',\n",
       " 'WBC',\n",
       " 'Weight',\n",
       " 'pH']"
      ]
     },
     "execution_count": 91,
     "metadata": {},
     "output_type": "execute_result"
    }
   ],
   "source": [
    "original_features = list(edata.var.index)\n",
    "original_features"
   ]
  },
  {
   "cell_type": "code",
   "execution_count": 92,
   "metadata": {},
   "outputs": [
    {
     "data": {
      "text/plain": [
       "['DiasABP',\n",
       " 'RespRate',\n",
       " 'PaO2',\n",
       " 'FiO2',\n",
       " 'HCO3',\n",
       " 'HCT',\n",
       " 'NIDiasABP',\n",
       " 'Albumin',\n",
       " 'TroponinI',\n",
       " 'NIMAP',\n",
       " 'Creatinine',\n",
       " 'HR',\n",
       " 'NIDiasABP',\n",
       " 'GCS',\n",
       " 'Cholesterol',\n",
       " 'Na',\n",
       " 'NISysABP',\n",
       " 'WBC',\n",
       " 'Urine',\n",
       " 'AST',\n",
       " 'RespRate',\n",
       " 'BUN',\n",
       " 'DiasABP',\n",
       " 'NISysABP',\n",
       " 'Albumin',\n",
       " 'Platelets',\n",
       " 'NIMAP',\n",
       " 'Temp',\n",
       " 'Albumin',\n",
       " 'Urine',\n",
       " 'TroponinT',\n",
       " 'Lactate',\n",
       " 'PaO2',\n",
       " 'RespRate',\n",
       " 'HR',\n",
       " 'Creatinine']"
      ]
     },
     "execution_count": 92,
     "metadata": {},
     "output_type": "execute_result"
    }
   ],
   "source": [
    "best_order = perm_matrix.argmax(axis=1)\n",
    "reordered_features = [original_features[i] for i in best_order]\n",
    "reordered_features"
   ]
  },
  {
   "cell_type": "code",
   "execution_count": null,
   "metadata": {},
   "outputs": [],
   "source": []
  }
 ],
 "metadata": {
  "kernelspec": {
   "display_name": "Python (goodmimic)",
   "language": "python",
   "name": "goodmimic"
  },
  "language_info": {
   "codemirror_mode": {
    "name": "ipython",
    "version": 3
   },
   "file_extension": ".py",
   "mimetype": "text/x-python",
   "name": "python",
   "nbconvert_exporter": "python",
   "pygments_lexer": "ipython3",
   "version": "3.12.2"
  }
 },
 "nbformat": 4,
 "nbformat_minor": 4
}
